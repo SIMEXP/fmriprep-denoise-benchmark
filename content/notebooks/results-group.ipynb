{
 "cells": [
  {
   "cell_type": "code",
   "execution_count": null,
   "id": "e0d8d2d3",
   "metadata": {
    "tags": [
     "hide-input"
    ]
   },
   "outputs": [],
   "source": [
    "import warnings\n",
    "\n",
    "warnings.filterwarnings(\"ignore\")\n",
    "\n",
    "import ipywidgets as widgets\n",
    "from ipywidgets import interactive\n",
    "from fmriprep_denoise.visualization import utils\n",
    "\n",
    "\n",
    "path_root = utils.repo2data_path() / \"denoise-metrics\"\n",
    "\n",
    "strategy_order = list(utils.GRID_LOCATION.values())\n",
    "group_order = {\n",
    "    \"ds000228\": [\"adult\", \"child\"],\n",
    "    \"ds000030\": [\"control\", \"ADHD\", \"bipolar\", \"schizophrenia\"],\n",
    "}\n",
    "datasets = [\"ds000228\", \"ds000030\"]\n",
    "\n",
    "datasets_baseline = {\"ds000228\": \"adult\", \"ds000030\": \"control\"}"
   ]
  },
  {
   "cell_type": "markdown",
   "id": "7b784c94",
   "metadata": {},
   "source": [
    "# Results: dataset level\n",
    "\n",
    "```{Important}\n",
    "The dropdown menu only works in interactive mode!\n",
    "Please launch binder to see the alterative results.\n",
    "```\n",
    "\n",
    "Here we provides alternative visualisation of the benchmark results from the manuscript.\n",
    "Please click on the launch button to lunch the Binder instance for interactive data viewing.\n",
    "\n",
    "The benchmark was performed on two Long-Term Support (LTS) versions of fMRIPrep (`20.2.1` and `20.2.5`) and two OpenNeuro datasets (`ds000228` {cite:p}`ds000228:1.1.0` and `ds000030` {cite:p}`ds000030:1.0.0`).\n",
    "For the demographic information and gross mean framewise displacement, it is possible to generate the report based on three levels of quality control filters (no filter, minimal, stringent).\n",
    "\n",
    "## Sample and subgroup size change based on quality control criteria\n",
    "\n",
    "We would like to perform the benchmark on subjects with reasonable qulaity of data to reflect the decisions researchers make in data analysis.\n",
    "We modified the criteria for filtering data from {cite:p}`parkes_evaluation_2018` to suit our dataset better and ensure enough time points for functional connectivity analysis.\n",
    "\n",
    "The stringent threshold removes subjects based on two criteria:\n",
    "1. removes subjects with mean framewise displacement above 0.25 mm\n",
    "2. removes subjects with more than 80% of the volumes missing when filtering the time series with a 0.2 mm framewise displacement.\n",
    "\n",
    "Parkes and colleagues {cite:p}`parkes_evaluation_2018` used a stricter criteria for remaining volumes (20%). However this will removed close to or more than 50% of the subjects from the datasets.\n",
    "\n",
    "In addition, we included the minimal threshold from {cite:p}`parkes_evaluation_2018`\n",
    "(removes subjects with mean framewise displacement above 0.55 mm)\n",
    "for readers to expore."
   ]
  },
  {
   "cell_type": "code",
   "execution_count": null,
   "id": "6433c083",
   "metadata": {
    "tags": [
     "hide-input"
    ]
   },
   "outputs": [],
   "source": [
    "import pandas as pd\n",
    "from fmriprep_denoise.visualization import tables\n",
    "from fmriprep_denoise.features.derivatives import get_qc_criteria\n",
    "\n",
    "\n",
    "def demographic_table(criteria_name, fmriprep_version):\n",
    "    criteria = get_qc_criteria(criteria_name)\n",
    "    ds000228 = tables.lazy_demographic(\n",
    "        \"ds000228\", fmriprep_version, path_root, **criteria\n",
    "    )\n",
    "    ds000030 = tables.lazy_demographic(\n",
    "        \"ds000030\", fmriprep_version, path_root, **criteria\n",
    "    )\n",
    "\n",
    "    desc = pd.concat(\n",
    "        {\"ds000228\": ds000228, \"ds000030\": ds000030}, axis=1, names=[\"dataset\"]\n",
    "    )\n",
    "    desc = desc.style.set_table_attributes('style=\"font-size: 12px\"')\n",
    "    print(\"Generating new tables...\")\n",
    "\n",
    "    display(desc)\n",
    "\n",
    "\n",
    "criteria_name = widgets.Dropdown(\n",
    "    options=[\"stringent\", \"minimal\", None],\n",
    "    value=\"stringent\",\n",
    "    description=\"Threshould: \",\n",
    "    disabled=False,\n",
    ")\n",
    "fmriprep_version = widgets.Dropdown(\n",
    "    options=[\"fmriprep-20.2.1lts\", \"fmriprep-20.2.5lts\"],\n",
    "    value=\"fmriprep-20.2.1lts\",\n",
    "    description=\"Preporcessing version : \",\n",
    "    disabled=False,\n",
    ")\n",
    "interactive(\n",
    "    demographic_table, criteria_name=criteria_name, fmriprep_version=fmriprep_version\n",
    ")"
   ]
  },
  {
   "cell_type": "markdown",
   "id": "60a30bee",
   "metadata": {},
   "source": [
    "<!-- #region -->\n",
    "You can also use different exclusion criteria to explore the motion profiles of different subgroups in the dataset.\n",
    "\n",
    "\n",
    "## Motion profile of each dataset\n",
    "\n",
    "We can see overall the adults have less gross motion than children in `ds000228`.\n",
    "Between different clinical groups in `ds000030`, the schizophrania group displays a marked difference in motion comparing to the healthy control.\n",
    "<!-- #endregion -->"
   ]
  },
  {
   "cell_type": "code",
   "execution_count": null,
   "id": "0a6bf212",
   "metadata": {
    "tags": [
     "hide-input"
    ]
   },
   "outputs": [],
   "source": [
    "from fmriprep_denoise.visualization import mean_framewise_displacement\n",
    "\n",
    "\n",
    "def notebook_plot_mean_fd(criteria_name, fmriprep_version):\n",
    "    stats = mean_framewise_displacement.load_data(\n",
    "        path_root, criteria_name, fmriprep_version\n",
    "    )\n",
    "    mean_framewise_displacement.plot_stats(stats)\n",
    "\n",
    "\n",
    "criteria_name = widgets.Dropdown(\n",
    "    options=[\"stringent\", \"minimal\", None],\n",
    "    value=\"stringent\",\n",
    "    description=\"Threshould: \",\n",
    "    disabled=False,\n",
    ")\n",
    "fmriprep_version = widgets.Dropdown(\n",
    "    options=[\"fmriprep-20.2.1lts\", \"fmriprep-20.2.5lts\"],\n",
    "    value=\"fmriprep-20.2.1lts\",\n",
    "    description=\"Preporcessing version : \",\n",
    "    disabled=False,\n",
    ")\n",
    "interactive(\n",
    "    notebook_plot_mean_fd,\n",
    "    criteria_name=criteria_name,\n",
    "    fmriprep_version=fmriprep_version,\n",
    ")"
   ]
  },
  {
   "cell_type": "markdown",
   "id": "d23a99e5",
   "metadata": {},
   "source": [
    "## Similarity amongst denoised connectomes\n",
    "\n",
    "We plotted the correlations among connectomes denoised with different denoisng strategies to get a general sense of the data.\n",
    "\n",
    "We see connectome denoised with or without global signal regressor formed two separate clusters.\n",
    "The baseline and ICA-AROMA {cite:p}`aroma` denoised connectome do not belong to any clusters.\n",
    "ICA-AROMA potentially captures much more different source of noise than the others."
   ]
  },
  {
   "cell_type": "code",
   "execution_count": null,
   "id": "a650d7d1",
   "metadata": {
    "tags": [
     "hide-input"
    ]
   },
   "outputs": [],
   "source": [
    "from fmriprep_denoise.visualization import connectivity_similarity\n",
    "\n",
    "\n",
    "def notebook_plot_connectomes(fmriprep_version):\n",
    "    average_connectomes = connectivity_similarity.load_data(\n",
    "        path_root, datasets, fmriprep_version\n",
    "    )\n",
    "    connectivity_similarity.plot_stats(average_connectomes)\n",
    "\n",
    "\n",
    "fmriprep_version = widgets.Dropdown(\n",
    "    options=[\"fmriprep-20.2.1lts\", \"fmriprep-20.2.5lts\"],\n",
    "    value=\"fmriprep-20.2.1lts\",\n",
    "    description=\"Preporcessing version : \",\n",
    "    disabled=False,\n",
    ")\n",
    "interactive(notebook_plot_connectomes, fmriprep_version=fmriprep_version)"
   ]
  },
  {
   "cell_type": "markdown",
   "id": "ab7c304f",
   "metadata": {},
   "source": [
    "## Loss of temporal degrees of freedom\n",
    "\n",
    "As any denoising strategy aims at a particular trade-off between the amount of noise removed and the preservation of degrees of freedom for signals, first and foremost, we would like to presentthe loss of temporal degrees of freedom.\n",
    "\n",
    "This is an important consideration accompanying the remaining metrics."
   ]
  },
  {
   "cell_type": "code",
   "execution_count": null,
   "id": "edb12069",
   "metadata": {
    "tags": [
     "hide-input"
    ]
   },
   "outputs": [],
   "source": [
    "from fmriprep_denoise.visualization import degrees_of_freedom_loss\n",
    "\n",
    "\n",
    "def notebook_plot_loss_degrees_of_freedom(criteria_name, fmriprep_version):\n",
    "    data = degrees_of_freedom_loss.load_data(\n",
    "        path_root, datasets, criteria_name, fmriprep_version\n",
    "    )\n",
    "    degrees_of_freedom_loss.plot_stats(data)\n",
    "\n",
    "\n",
    "criteria_name = widgets.Dropdown(\n",
    "    options=[\"stringent\", \"minimal\", None],\n",
    "    value=\"stringent\",\n",
    "    description=\"Threshould: \",\n",
    "    disabled=False,\n",
    ")\n",
    "\n",
    "fmriprep_version = widgets.Dropdown(\n",
    "    options=[\"fmriprep-20.2.1lts\", \"fmriprep-20.2.5lts\"],\n",
    "    value=\"fmriprep-20.2.1lts\",\n",
    "    description=\"Preporcessing version : \",\n",
    "    disabled=False,\n",
    ")\n",
    "\n",
    "interactive(\n",
    "    notebook_plot_loss_degrees_of_freedom,\n",
    "    criteria_name=criteria_name,\n",
    "    fmriprep_version=fmriprep_version,\n",
    ")"
   ]
  },
  {
   "cell_type": "markdown",
   "id": "945f7e80",
   "metadata": {},
   "source": [
    "## Quality control / functional connectivity (QC-FC)\n",
    "\n",
    "QC-FC {cite:p}`power_recent_2015` quantifies the correlation between mean framewise displacement and functional connectivity.\n",
    "This is calculated by a partial correlation between mean framewise displacement and connectivity, with age and sex as covariates.\n",
    "The denoising methods should aim to reduce the QC-FC value.\n",
    "Significance tests associated with the partial correlations were performed,\n",
    "and correlations with P-values above the threshold of = 0.05 deemed significant."
   ]
  },
  {
   "cell_type": "code",
   "execution_count": null,
   "id": "9e8e4fd4",
   "metadata": {
    "tags": [
     "hide-input"
    ]
   },
   "outputs": [],
   "source": [
    "from fmriprep_denoise.visualization import motion_metrics\n",
    "\n",
    "\n",
    "def notebook_plot_qcfc(criteria_name, fmriprep_version):\n",
    "    data, measure = motion_metrics.load_data(\n",
    "        path_root, datasets, criteria_name, fmriprep_version, \"p_values\"\n",
    "    )\n",
    "    motion_metrics.plot_stats(data, measure)\n",
    "\n",
    "\n",
    "fmriprep_version = widgets.Dropdown(\n",
    "    options=[\"fmriprep-20.2.1lts\", \"fmriprep-20.2.5lts\"],\n",
    "    value=\"fmriprep-20.2.1lts\",\n",
    "    description=\"Preporcessing version : \",\n",
    "    disabled=False,\n",
    ")\n",
    "\n",
    "interactive(\n",
    "    notebook_plot_qcfc, criteria_name=\"stringent\", fmriprep_version=fmriprep_version\n",
    ")"
   ]
  },
  {
   "cell_type": "markdown",
   "id": "dd004f1a",
   "metadata": {},
   "source": [
    "### False discovery rate corrected QC-FC\n",
    "\n",
    "A version of this analysis corrected for multiple comparisons using the false discovery rate (Benjamini & Hochberg, 1995) is available here."
   ]
  },
  {
   "cell_type": "code",
   "execution_count": null,
   "id": "dbce7114",
   "metadata": {
    "tags": [
     "hide-input"
    ]
   },
   "outputs": [],
   "source": [
    "from fmriprep_denoise.visualization import motion_metrics\n",
    "\n",
    "\n",
    "def notebook_plot_qcfc_fdr(criteria_name, fmriprep_version):\n",
    "    data, measure = motion_metrics.load_data(\n",
    "        path_root, datasets, criteria_name, fmriprep_version, \"fdr_p_values\"\n",
    "    )\n",
    "    motion_metrics.plot_stats(data, measure)\n",
    "\n",
    "\n",
    "fmriprep_version = widgets.Dropdown(\n",
    "    options=[\"fmriprep-20.2.1lts\", \"fmriprep-20.2.5lts\"],\n",
    "    value=\"fmriprep-20.2.1lts\",\n",
    "    description=\"Preporcessing version : \",\n",
    "    disabled=False,\n",
    ")\n",
    "\n",
    "interactive(\n",
    "    notebook_plot_qcfc_fdr, criteria_name=\"stringent\", fmriprep_version=fmriprep_version\n",
    ")"
   ]
  },
  {
   "cell_type": "markdown",
   "id": "917fcf79",
   "metadata": {},
   "source": [
    "### Medians of absolute values of QC-FC"
   ]
  },
  {
   "cell_type": "code",
   "execution_count": null,
   "id": "e38d55e5",
   "metadata": {
    "tags": [
     "hide-input"
    ]
   },
   "outputs": [],
   "source": [
    "from fmriprep_denoise.visualization import motion_metrics\n",
    "\n",
    "\n",
    "def notebook_plot_qcfc_median(criteria_name, fmriprep_version):\n",
    "    data, measure = motion_metrics.load_data(\n",
    "        path_root, datasets, criteria_name, fmriprep_version, \"median\"\n",
    "    )\n",
    "    motion_metrics.plot_stats(data, measure)\n",
    "\n",
    "\n",
    "fmriprep_version = widgets.Dropdown(\n",
    "    options=[\"fmriprep-20.2.1lts\", \"fmriprep-20.2.5lts\"],\n",
    "    value=\"fmriprep-20.2.1lts\",\n",
    "    description=\"Preporcessing version : \",\n",
    "    disabled=False,\n",
    ")\n",
    "\n",
    "interactive(\n",
    "    notebook_plot_qcfc_median,\n",
    "    criteria_name=\"stringent\",\n",
    "    fmriprep_version=fmriprep_version,\n",
    ")"
   ]
  },
  {
   "cell_type": "markdown",
   "id": "0d1c6a7e",
   "metadata": {},
   "source": [
    "## Residual distance-dependent effects of subject motion on functional connectivity (DM-FC)\n",
    "\n",
    "To determine the residual distance-dependence of subject movement, we first calculated the Euclidean distance between the centers of mass of each pair of parcels {cite:p}`power_scrubbing_2012`.\n",
    "Closer parcels generally exhibit greater impact of motion on connectivity.\n",
    "We then correlated the distance separating each pair of parcels and the associated QC-FC correlation of the edge connecting those parcels.\n",
    "We report the absolute correlation values and expect to see a general trend toward zero correlation after confound regression."
   ]
  },
  {
   "cell_type": "code",
   "execution_count": null,
   "id": "4fd54762",
   "metadata": {
    "tags": [
     "hide-input"
    ]
   },
   "outputs": [],
   "source": [
    "from fmriprep_denoise.visualization import motion_metrics\n",
    "\n",
    "\n",
    "def notebook_plot_distance(criteria_name, fmriprep_version):\n",
    "    data, measure = motion_metrics.load_data(\n",
    "        path_root, datasets, criteria_name, fmriprep_version, \"distance\"\n",
    "    )\n",
    "    motion_metrics.plot_stats(data, measure)\n",
    "\n",
    "\n",
    "fmriprep_version = widgets.Dropdown(\n",
    "    options=[\"fmriprep-20.2.1lts\", \"fmriprep-20.2.5lts\"],\n",
    "    value=\"fmriprep-20.2.1lts\",\n",
    "    description=\"Preporcessing version : \",\n",
    "    disabled=False,\n",
    ")\n",
    "\n",
    "interactive(\n",
    "    notebook_plot_distance, criteria_name=\"stringent\", fmriprep_version=fmriprep_version\n",
    ")"
   ]
  },
  {
   "cell_type": "markdown",
   "id": "3391639c",
   "metadata": {},
   "source": [
    "## Louvain network modularity\n",
    "\n",
    "Confound regressors have the potential to remove real signals in addition to motion-related noise.\n",
    "In order to evaluate this possibility, we computed modularity quality,\n",
    "an explicit quantification of the degree to which there are structured subnetworks in a given network - in this case the denoised connectome {cite:p}`satterthwaite_impact_2012`.\n",
    "Modularity quality is quantified by graph community detection based on the Louvain method {cite:p}`rubinov2010`,\n",
    "implemented in the Brain Connectivity Toolbox {cite:p}`rubinov2010`."
   ]
  },
  {
   "cell_type": "code",
   "execution_count": null,
   "id": "852d0ad1",
   "metadata": {
    "tags": [
     "hide-input"
    ]
   },
   "outputs": [],
   "source": [
    "from fmriprep_denoise.visualization import motion_metrics\n",
    "\n",
    "\n",
    "def notebook_plot_modularity(criteria_name, fmriprep_version):\n",
    "    data, measure = motion_metrics.load_data(\n",
    "        path_root, datasets, criteria_name, fmriprep_version, \"modularity\"\n",
    "    )\n",
    "    motion_metrics.plot_stats(data, measure)\n",
    "\n",
    "\n",
    "fmriprep_version = widgets.Dropdown(\n",
    "    options=[\"fmriprep-20.2.1lts\", \"fmriprep-20.2.5lts\"],\n",
    "    value=\"fmriprep-20.2.1lts\",\n",
    "    description=\"Preporcessing version : \",\n",
    "    disabled=False,\n",
    ")\n",
    "\n",
    "interactive(\n",
    "    notebook_plot_modularity,\n",
    "    criteria_name=\"stringent\",\n",
    "    fmriprep_version=fmriprep_version,\n",
    ")"
   ]
  },
  {
   "cell_type": "markdown",
   "id": "70ee4831",
   "metadata": {},
   "source": [
    "### Average Pearson's correlation between mean framewise displacement and Louvain network modularity after denoising\n",
    "\n",
    "If confound regression and censoring were removing real signals in addition to motion-related noise, we would expect modularity to decline.\n",
    "To understand the extent of correlation between modularity and motion,\n",
    "we computed the partial correlation between subjects' modularity values and mean framewise displacement,\n",
    "with age and sex as covariates."
   ]
  },
  {
   "cell_type": "code",
   "execution_count": null,
   "id": "e4d642f4",
   "metadata": {
    "tags": [
     "hide-input"
    ]
   },
   "outputs": [],
   "source": [
    "from fmriprep_denoise.visualization import motion_metrics\n",
    "\n",
    "\n",
    "def notebook_plot_modularity_motion(criteria_name, fmriprep_version):\n",
    "    data, measure = motion_metrics.load_data(\n",
    "        path_root, datasets, criteria_name, fmriprep_version, \"modularity_motion\"\n",
    "    )\n",
    "    motion_metrics.plot_stats(data, measure)\n",
    "\n",
    "\n",
    "fmriprep_version = widgets.Dropdown(\n",
    "    options=[\"fmriprep-20.2.1lts\", \"fmriprep-20.2.5lts\"],\n",
    "    value=\"fmriprep-20.2.1lts\",\n",
    "    description=\"Preporcessing version : \",\n",
    "    disabled=False,\n",
    ")\n",
    "\n",
    "interactive(\n",
    "    notebook_plot_modularity_motion,\n",
    "    criteria_name=\"stringent\",\n",
    "    fmriprep_version=fmriprep_version,\n",
    ")"
   ]
  },
  {
   "cell_type": "markdown",
   "id": "594e3f6f",
   "metadata": {},
   "source": [
    "### Correlation between mean framewise displacement and Louvain network modularity after denoising.\n",
    "\n",
    "In both datasets, the data-driven strategies and strategies with GSR performed consistently worse than baseline.\n",
    "The overall trend across strategies is similar to QC-FC with the exception of the baseline strategy.\n",
    "The reason behind this observation could be a reduction of variance in the Louvain network modularity metric for GSR-based denoising strategies.\n",
    "\n",
    "Hence, we plotted the correlations of baseline, a base strategy, a GSR variation from one parcellation scheme (DiFuMo 64 components)to demonstrate this lack of variance."
   ]
  },
  {
   "cell_type": "code",
   "execution_count": null,
   "id": "44bb6ccd",
   "metadata": {
    "tags": [
     "hide-input"
    ]
   },
   "outputs": [],
   "source": [
    "from fmriprep_denoise.visualization import motion_metrics\n",
    "\n",
    "\n",
    "def notebook_plot_joint_scatter(dataset, base_strategy, fmriprep_version):\n",
    "    motion_metrics.plot_joint_scatter(\n",
    "        path_root, dataset, base_strategy, fmriprep_version\n",
    "    )\n",
    "\n",
    "\n",
    "dataset = widgets.Dropdown(\n",
    "    options=[\"ds000228\", \"ds000030\"],\n",
    "    value=\"ds000228\",\n",
    "    description=\"Dataset: \",\n",
    "    disabled=False,\n",
    ")\n",
    "fmriprep_version = widgets.Dropdown(\n",
    "    options=[\"fmriprep-20.2.1lts\", \"fmriprep-20.2.5lts\"],\n",
    "    value=\"fmriprep-20.2.1lts\",\n",
    "    description=\"Preporcessing version : \",\n",
    "    disabled=False,\n",
    ")\n",
    "base_strategy = widgets.Dropdown(\n",
    "    options=[\"simple\", \"srubbing.5\", \"srubbing.2\"],\n",
    "    value=\"simple\",\n",
    "    description=\"Base denoise strategy \",\n",
    "    disabled=False,\n",
    ")\n",
    "\n",
    "interactive(\n",
    "    notebook_plot_joint_scatter,\n",
    "    dataset=dataset,\n",
    "    base_strategy=base_strategy,\n",
    "    fmriprep_version=fmriprep_version,\n",
    ")"
   ]
  },
  {
   "cell_type": "markdown",
   "id": "8838fda3",
   "metadata": {},
   "source": [
    "## Ranking strategies from best to worst, based on four benchmark metrics\n",
    "\n",
    "We ranked four metrics from best to worst.\n",
    "Larger circles with brighter color represent higher ranking.\n",
    "Metric \"correlation between network modularity and motion\" has been excluded from the summary as it is potentially a poor measure.\n",
    "Loss of temporal degrees of freedom is a crucial measure that should be taken into account alongside the metric rankings."
   ]
  },
  {
   "cell_type": "code",
   "execution_count": null,
   "id": "b4f51bae",
   "metadata": {
    "tags": [
     "hide-input"
    ]
   },
   "outputs": [],
   "source": [
    "from fmriprep_denoise.visualization import strategy_ranking\n",
    "\n",
    "\n",
    "data = strategy_ranking.load_data(path_root, datasets)\n",
    "fig = strategy_ranking.plot_ranking(data)"
   ]
  }
 ],
 "metadata": {
  "kernelspec": {
   "display_name": "Python 3 (ipykernel)",
   "language": "python",
   "name": "python3"
  }
 },
 "nbformat": 4,
 "nbformat_minor": 5
}
