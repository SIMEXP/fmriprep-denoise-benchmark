{
 "cells": [
  {
   "cell_type": "code",
   "execution_count": null,
   "id": "0132021c",
   "metadata": {
    "tags": [
     "hide-input",
     "hide-output"
    ]
   },
   "outputs": [],
   "source": [
    "import warnings\n",
    "warnings.filterwarnings(\"ignore\")\n",
    "from fmriprep_denoise.visualization import figures, utils\n",
    "from myst_nb import glue\n",
    "\n",
    "\n",
    "path_root = utils.repo2data_path() / \"denoise-metrics\"\n",
    "# Load metric data\n",
    "dataset = \"ds000228\"\n",
    "fmriprep_version = \"fmriprep-20.2.1lts\"\n",
    "atlas_name = \"schaefer7networks\"\n",
    "dimension = 400"
   ]
  },
  {
   "cell_type": "markdown",
   "id": "ab4fd525",
   "metadata": {},
   "source": [
    "<!-- #region -->\n",
    "# OHBM 2022 abstract - submitted text\n",
    "\n",
    "The preliminary results will be presented at OHBM 2022 as a poster.\n",
    "Please find poster number `WTh570`.\n",
    "\n",
    "Find the presenter at the\n",
    "[virtual poster session](https://event.fourwaves.com/ohbm-2022/abstracts/d49d130b-7f83-4c87-92f4-e1a8e319502b)\n",
    "on __Wednesday, June 8, 2022, 8:30 PM GMT + 1__.\n",
    "\n",
    "At Glasgow, please contact the presenter on [Twitter](https://twitter.com/HaoTingW713) to schedule a time to chat,\n",
    "or come to see the presenter on __Wednesday, June 22, 2022, 12:45 PM__ at the poster hall.\n",
    "\n",
    "```{image} ../images/ohbm2022_abstract_head.png\n",
    ":alt: poster\n",
    ":align: center\n",
    "```\n",
    "\n",
    "## Impact of confound removal strategies on functional connectivity generated from fMRIPrep outputs\n",
    "\n",
    "H-T Wang[^1], S L Meisler[^2][^3], H Shamarke, F Paugam[^1][^4], N Gensollen[^5], B Thirion[^5], C Markiewicz[^6], P Bellec[^1][^7]\n",
    "\n",
    "[^1]: Centre de recherche de l'institut Universitaire de gériatrie de Montréal (CRIUGM), Montréal, Québec, Canada\n",
    "\n",
    "[^2]: Harvard University, MA, USA\n",
    "\n",
    "[^3]: Massachusetts Institute of Technology, MA, USA\n",
    "\n",
    "[^4]: Computer Science and Operations Research Department, Université de Montréal, Montréal, Québec, Canada\n",
    "\n",
    "[^5]: Inria, CEA, Université Paris-Saclay, Paris, France\n",
    "\n",
    "[^6]: Department of Psychology, Stanford University, Stanford, United States\n",
    "\n",
    "[^7]: Psychology Department, Université de Montréal, Montréal, Québec, Canada\n",
    "\n",
    "### Introduction\n",
    "\n",
    "Selecting an optimal denoising strategy is a key issue when processing fMRI data.\n",
    "The popular software fMRIPrep {cite:p}`fmriprep1` aims to standardize fMRI preprocessing,\n",
    "but users are still offered a wide range of confound regressors to choose from to denoise data.\n",
    "Without a good understanding of the literature or the fMRIPrep documentation,\n",
    "users can select suboptimal strategies.\n",
    "Current work aims to provide a useful reference for fMRIPrep users by systematically evaluating the impact of different confound regression strategies,\n",
    "and by contrasting the results with past literature based on alternative preprocessing software.\n",
    "\n",
    "### Methods\n",
    "\n",
    "We selected dataset ds000228 {cite:p}`richardson_development_2018` on OpenNeuro, which we preprocessed with fMRIPrep LTS20.2.1 using option `--use-aroma`.\n",
    "Time series were extracted using the Schaefer 7 network atlas with 400 ROIs {cite:p}`schaefer_local-global_2017`.\n",
    "We applied the denoising strategies listed in the table below using fMRIPrep-generated confounds.\n",
    "Subjects with less than 80% of remaining volumes after scrubbing with a 0.5 mm threshold were excluded from all analysis.\n",
    "We also calculated the connectome from high-pass filtered time series as a comparison baseline.\n",
    "\n",
    "\n",
    "| strategy      | image                          | `high_pass` | `motion` | `wm_csf` | `global_signal` | `scrub` | `fd_thresh` | `compcor`     | `n_compcor` | `ica_aroma` | `demean` |\n",
    "|---------------|--------------------------------|-------------|----------|----------|-----------------|---------|-------------|---------------|-------------|-------------|----------|\n",
    "| baseline      | `desc-preproc_bold`            | `True`      | N/A      | N/A      | N/A             | N/A     | N/A         | N/A           | N/A         | N/A         | `True`   |\n",
    "| simple        | `desc-preproc_bold`            | `True`      | full     | basic    | N/A             | N/A     | N/A         | N/A           | N/A         | N/A         | `True`   |\n",
    "| simple+gsr    | `desc-preproc_bold`            | `True`      | full     | basic    | basic           | N/A     | N/A         | N/A           | N/A         | N/A         | `True`   |\n",
    "| scrubbing     | `desc-preproc_bold`            | `True`      | full     | full     | N/A             | 5       | 0.5         | N/A           | N/A         | N/A         | `True`   |\n",
    "| scrubbing+gsr | `desc-preproc_bold`            | `True`      | full     | full     | basic           | 5       | 0.5         | N/A           | N/A         | N/A         | `True`   |\n",
    "| compcor       | `desc-preproc_bold`            | `True`      | full     | N/A      | N/A             | N/A     | N/A         | anat_combined | all         | N/A         | `True`   |\n",
    "| compcor6      | `desc-preproc_bold`            | `True`      | full     | N/A      | N/A             | N/A     | N/A         | anat_combined | 6           | N/A         | `True`   |\n",
    "| aroma         | `desc-smoothAROMAnonaggr_bold` | `True`      | N/A      | basic    | N/A             | N/A     | N/A         | N/A           | N/A         | full        | `True`   |\n",
    "| aroma+gsr     | `desc-smoothAROMAnonaggr_bold` | `True`      | N/A      | basic    | basic           | N/A     | N/A         | N/A           | N/A         | full        | `True`   |\n",
    "\n",
    "We used three metrics {cite:p}`ciric_benchmarking_2017`, {cite:p}`parkes_evaluation_2018` to evaluate the denoising results:\n",
    "1. Quality control / functional connectivity (QCFC {cite:p}`power_recent_2015`): partial correlation between motion and connectivity with age and sex as covariates. We control for multiple comparisons with false positive rate correction.\n",
    "2. Distance-dependent effects of motion on connectivity {cite:p}`power_scrubbing_2012`: correlation between node-wise Euclidean distance and QC-FC.\n",
    "3. Network modularity {cite:p}`satterthwaite_impact_2012`: graph community detection based on Louvain method, implemented in the Brain Connectome Toolbox.\n",
    "\n",
    "### Results\n",
    "\n",
    "#### QC-FC and distance-dependent effect\n",
    "\n",
    "No denoise strategy removed the correlation with motion captured by mean framewise displacement.\n",
    "`aroma`, `compcor6`, and `simple` reduced the correlation between connectivity edges and mean framewise displacement.\n",
    "`scrubbing` and `scrubbing+gsr` performed the best, as seen in previous work {cite:p}`power_recent_2015`.\n",
    "`compcor`, which applies compcor-based regressors covering 50% of the variance, performs worse than the connectome baseline created with high-pass filtered time series.\n",
    "Surprisingly, all strategies with global signal regression underperform, contradicting the existing literature {cite:p}`ciric_benchmarking_2017` {cite:p}`parkes_evaluation_2018`.\n",
    "<!-- #endregion -->"
   ]
  },
  {
   "cell_type": "code",
   "execution_count": null,
   "id": "c66834bf",
   "metadata": {
    "tags": [
     "hide-input",
     "remove-output"
    ]
   },
   "outputs": [],
   "source": [
    "fig = figures.plot_motion_resid(\n",
    "    dataset, fmriprep_version, path_root, atlas_name=atlas_name, dimension=dimension\n",
    ")\n",
    "glue(\"ohbm-qcfc-fig\", fig, display=False)"
   ]
  },
  {
   "cell_type": "markdown",
   "id": "9e39c883",
   "metadata": {},
   "source": [
    "```{glue:figure} ohbm-qcfc-fig\n",
    ":figwidth: 800px\n",
    ":name: \"ohbm-qcfc-fig\"\n",
    "```\n",
    "\n",
    "#### Distance-dependent effects of motion on connectivity\n",
    "\n",
    "Consistent with the literature, `aroma` reduces the distance dependency of motion on connectivity."
   ]
  },
  {
   "cell_type": "code",
   "execution_count": null,
   "id": "9243bbb6",
   "metadata": {
    "tags": [
     "hide-input",
     "remove-output"
    ]
   },
   "outputs": [],
   "source": [
    "fig = figures.plot_distance_dependence(\n",
    "    dataset, fmriprep_version, path_root, atlas_name=atlas_name, dimension=dimension\n",
    ")\n",
    "glue(\"ohbm-dist-fig\", fig, display=False)"
   ]
  },
  {
   "cell_type": "markdown",
   "id": "e35362cc",
   "metadata": {},
   "source": [
    "```{glue:figure} ohbm-dist-fig\n",
    ":figwidth: 800px\n",
    ":name: \"ohbm-dist-fig\"\n",
    "```\n",
    "\n",
    "#### Network modularity\n",
    "\n",
    "All strategies increased the overall network modularity compared to the `baseline`, with scrubbing based methods performing the best out of all.\n",
    "GSR-based strategies improved the network modularity compared to their conunterparts.\n",
    "The correlation between modularity quality and motion for each denoising approach shows that compcor-based and ICA-AROMA strategies are the best at eliminating correlations between motion and modularity."
   ]
  },
  {
   "cell_type": "code",
   "execution_count": null,
   "id": "33fb9e48",
   "metadata": {
    "tags": [
     "hide-input",
     "remove-output"
    ]
   },
   "outputs": [],
   "source": [
    "fig = figures.plot_network_modularity(\n",
    "    dataset, fmriprep_version, path_root, atlas_name=atlas_name, dimension=dimension\n",
    ")\n",
    "glue(\"ohbm-network-fig\", fig, display=False)"
   ]
  },
  {
   "cell_type": "markdown",
   "id": "f6d8f67c",
   "metadata": {},
   "source": [
    "```{glue:figure} ohbm-network-fig\n",
    ":figwidth: 800px\n",
    ":name: \"ohbm-network-fig\"\n",
    "```\n",
    "\n",
    "### Conclusions\n",
    "\n",
    "We replicated previous findings demonstrating the usefulness of standard denoising strategies (compcor, aroma, etc.).\n",
    "However, results involving global signal regression methods systematically contradict the literature{cite:p}`ciric_benchmarking_2017` {cite:p}`parkes_evaluation_2018`.\n",
    "This evaluation is implemented in a fully reproducible jupyter book framework, and it can be applied to evaluate denoising strategies for future fMRIPrep release.\n",
    "This software may also be useful for researchers to select the most suitable strategy and produce denoising benchmarks for their own dataset."
   ]
  }
 ],
 "metadata": {
  "kernelspec": {
   "display_name": "Python 3",
   "language": "python",
   "name": "python3"
  }
 },
 "nbformat": 4,
 "nbformat_minor": 5
}
