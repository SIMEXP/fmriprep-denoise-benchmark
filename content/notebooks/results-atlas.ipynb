{
 "cells": [
  {
   "cell_type": "code",
   "execution_count": null,
   "id": "5071b18f",
   "metadata": {
    "tags": [
     "hide-input",
     "hide-output"
    ]
   },
   "outputs": [],
   "source": [
    "import warnings\n",
    "\n",
    "warnings.filterwarnings(\"ignore\")\n",
    "from fmriprep_denoise.dataset.atlas import ATLAS_METADATA\n",
    "from fmriprep_denoise.visualization import figures, utils\n",
    "\n",
    "import ipywidgets as widgets\n",
    "from ipywidgets import interactive, interact\n",
    "\n",
    "path_root = utils.repo2data_path() / \"denoise-metrics\""
   ]
  },
  {
   "cell_type": "markdown",
   "id": "f5ba145f",
   "metadata": {},
   "source": [
    "# Results: atlas level\n",
    "\n",
    "It is possible to view the data at atlas level!\n",
    "Please click on the launch button to lunch the Binder instance for interactive data viewing.\n",
    "\n",
    "In the report we used four atlases, three of them came with multiple parcellation schemes.\n",
    "\n",
    "- Gordon atlas {cite:p}`gordon_atlas_2014`: 333\n",
    "- Schaefer 7 network atlas {cite:p}`schaefer_local-global_2017`: 100, 200, 300, 400, 500, 600, 800\n",
    "- Multiresolution Intrinsic Segmentation Template (MIST) {cite:p}`urchs_mist_2019`: 7, 12, 20, 36, 64, 122, 197, 325, 444, “ROI” (210 parcels, 122 split by the midline)\n",
    "- DiFuMo {cite:p}`difumo_2020`: 64, 128, 256, 512, 1024\n",
    "\n",
    "## Before we start: Loss of temporal degrees of freedom\n",
    "\n",
    "As any denoising strategy aims at a particular trade-off between the amount of noise removed and the preservation of degrees of freedom for signals, first and foremost, we would like to presentthe loss of temporal degrees of freedom.\n",
    "\n",
    "This is an important consideration accompanying the remaining metrics."
   ]
  },
  {
   "cell_type": "code",
   "execution_count": null,
   "id": "d84faa8f",
   "metadata": {
    "tags": [
     "hide-input"
    ]
   },
   "outputs": [],
   "source": [
    "from fmriprep_denoise.visualization import degrees_of_freedom_loss\n",
    "\n",
    "\n",
    "def notebook_plot_loss_degrees_of_freedom(criteria_name, fmriprep_version):\n",
    "    datasets = [\"ds000228\", \"ds000030\"]\n",
    "    data = degrees_of_freedom_loss.load_data(\n",
    "        path_root, datasets, criteria_name, fmriprep_version\n",
    "    )\n",
    "    degrees_of_freedom_loss.plot_stats(data)\n",
    "\n",
    "\n",
    "criteria_name = widgets.Dropdown(\n",
    "    options=[\"stringent\", \"minimal\", None],\n",
    "    value=\"stringent\",\n",
    "    description=\"Threshould: \",\n",
    "    disabled=False,\n",
    ")\n",
    "\n",
    "fmriprep_version = widgets.Dropdown(\n",
    "    options=[\"fmriprep-20.2.1lts\", \"fmriprep-20.2.5lts\"],\n",
    "    value=\"fmriprep-20.2.1lts\",\n",
    "    description=\"Preporcessing version : \",\n",
    "    disabled=False,\n",
    ")\n",
    "\n",
    "interactive(\n",
    "    notebook_plot_loss_degrees_of_freedom,\n",
    "    criteria_name=criteria_name,\n",
    "    fmriprep_version=fmriprep_version,\n",
    ")"
   ]
  },
  {
   "cell_type": "markdown",
   "id": "87efc58f",
   "metadata": {},
   "source": [
    "## Each parcelation scheme\n",
    "\n",
    "We can also plot them by each parcellation schemes.\n",
    "\n",
    "This is the original way Ciric and colleagues {cite:p}`ciric_benchmarking_2017` presented their results!\n",
    "\n",
    "### Gordon atlas"
   ]
  },
  {
   "cell_type": "code",
   "execution_count": null,
   "id": "c78a6190",
   "metadata": {},
   "outputs": [],
   "source": [
    "atlas = \"gordon333\"\n",
    "\n",
    "dataset = widgets.Dropdown(\n",
    "    options=[\"ds000228\", \"ds000030\"], description=\"Dataset : \", disabled=False\n",
    ")\n",
    "fmriprep_version = widgets.Dropdown(\n",
    "    options=[\"fmriprep-20.2.1lts\", \"fmriprep-20.2.5lts\"],\n",
    "    description=\"fmriprep : \",\n",
    "    disabled=False,\n",
    ")\n",
    "dimension = widgets.Dropdown(\n",
    "    description=\"dimensions : \",\n",
    "    options=ATLAS_METADATA[atlas][\"dimensions\"],\n",
    "    disabled=False,\n",
    ")\n",
    "\n",
    "\n",
    "@interact(ds=dataset, f=fmriprep_version, d=dimension)\n",
    "def show_atlas(ds, f, d):\n",
    "    print(ds, f, ATLAS_METADATA[atlas][\"atlas\"], \"dimensions: \", d)\n",
    "    figures.plot_motion_resid(ds, f, path_root, atlas_name=atlas, dimension=d)\n",
    "    figures.plot_distance_dependence(ds, f, path_root, atlas_name=atlas, dimension=d)\n",
    "    figures.plot_network_modularity(ds, f, path_root, atlas_name=atlas, dimension=d)"
   ]
  },
  {
   "cell_type": "markdown",
   "id": "5ee2565b",
   "metadata": {},
   "source": [
    "### MIST\n",
    "\n",
    "If selecting `None` for dimension, the figure will summmarise the metrics by each atlas collection.\n",
    "\n",
    "**The summary statistics are computed on the fly, it might take a bit of time.**"
   ]
  },
  {
   "cell_type": "code",
   "execution_count": null,
   "id": "e216703a",
   "metadata": {},
   "outputs": [],
   "source": [
    "atlas = \"mist\"\n",
    "\n",
    "dataset = widgets.Dropdown(\n",
    "    options=[\"ds000228\", \"ds000030\"], description=\"Dataset : \", disabled=False\n",
    ")\n",
    "fmriprep_version = widgets.Dropdown(\n",
    "    options=[\"fmriprep-20.2.1lts\", \"fmriprep-20.2.5lts\"],\n",
    "    description=\"fmriprep : \",\n",
    "    disabled=False,\n",
    ")\n",
    "dimension = widgets.Dropdown(\n",
    "    description=\"dimensions : \",\n",
    "    options=ATLAS_METADATA[atlas][\"dimensions\"] + [None],\n",
    "    disabled=False,\n",
    ")\n",
    "\n",
    "\n",
    "@interact(ds=dataset, f=fmriprep_version, d=dimension)\n",
    "def show_atlas(ds, f, d):\n",
    "    print(ds, f, ATLAS_METADATA[atlas][\"atlas\"], \"dimensions: \", d)\n",
    "    figures.plot_motion_resid(ds, f, path_root, atlas_name=atlas, dimension=d)\n",
    "    figures.plot_distance_dependence(ds, f, path_root, atlas_name=atlas, dimension=d)\n",
    "    figures.plot_network_modularity(ds, f, path_root, atlas_name=atlas, dimension=d)"
   ]
  },
  {
   "cell_type": "markdown",
   "id": "a806ec0f",
   "metadata": {},
   "source": [
    "### Schaefer 7 network\n",
    "\n",
    "If selecting `None` for dimension, the figure will summmarise the metrics by each atlas collection.\n",
    "\n",
    "**The summary statistics are computed on the fly, it might take a bit of time.**"
   ]
  },
  {
   "cell_type": "code",
   "execution_count": null,
   "id": "1ca72afe",
   "metadata": {},
   "outputs": [],
   "source": [
    "atlas = \"schaefer7networks\"\n",
    "\n",
    "dataset = widgets.Dropdown(\n",
    "    options=[\"ds000228\", \"ds000030\"], description=\"Dataset : \", disabled=False\n",
    ")\n",
    "fmriprep_version = widgets.Dropdown(\n",
    "    options=[\"fmriprep-20.2.1lts\", \"fmriprep-20.2.5lts\"],\n",
    "    description=\"fmriprep : \",\n",
    "    disabled=False,\n",
    ")\n",
    "dimension = widgets.Dropdown(\n",
    "    description=\"dimensions : \",\n",
    "    options=ATLAS_METADATA[atlas][\"dimensions\"] + [None],\n",
    "    disabled=False,\n",
    ")\n",
    "\n",
    "\n",
    "@interact(ds=dataset, f=fmriprep_version, d=dimension)\n",
    "def show_atlas(ds, f, d):\n",
    "    print(ds, f, ATLAS_METADATA[atlas][\"atlas\"], \"dimensions: \", d)\n",
    "    figures.plot_motion_resid(ds, f, path_root, atlas_name=atlas, dimension=d)\n",
    "    figures.plot_distance_dependence(ds, f, path_root, atlas_name=atlas, dimension=d)\n",
    "    figures.plot_network_modularity(ds, f, path_root, atlas_name=atlas, dimension=d)"
   ]
  },
  {
   "cell_type": "markdown",
   "id": "e89658c8",
   "metadata": {},
   "source": [
    "### DiFuMo\n",
    "\n",
    "If selecting `None` for dimension, the figure will summmarise the metrics by each atlas collection.\n",
    "\n",
    "**The summary statistics are computed on the fly, it might take a bit of time.**"
   ]
  },
  {
   "cell_type": "code",
   "execution_count": null,
   "id": "6574f37f",
   "metadata": {},
   "outputs": [],
   "source": [
    "atlas = \"difumo\"\n",
    "\n",
    "dataset = widgets.Dropdown(\n",
    "    options=[\"ds000228\", \"ds000030\"], description=\"Dataset : \", disabled=False\n",
    ")\n",
    "fmriprep_version = widgets.Dropdown(\n",
    "    options=[\"fmriprep-20.2.1lts\", \"fmriprep-20.2.5lts\"],\n",
    "    description=\"fmriprep : \",\n",
    "    disabled=False,\n",
    ")\n",
    "dimension = widgets.Dropdown(\n",
    "    description=\"dimensions : \",\n",
    "    options=ATLAS_METADATA[atlas][\"dimensions\"] + [None],\n",
    "    disabled=False,\n",
    ")\n",
    "\n",
    "\n",
    "@interact(ds=dataset, f=fmriprep_version, d=dimension)\n",
    "def show_atlas(ds, f, d):\n",
    "    print(ds, f, ATLAS_METADATA[atlas][\"atlas\"], \"dimensions: \", d)\n",
    "    figures.plot_motion_resid(ds, f, path_root, atlas_name=atlas, dimension=d)\n",
    "    figures.plot_distance_dependence(ds, f, path_root, atlas_name=atlas, dimension=d)\n",
    "    figures.plot_network_modularity(ds, f, path_root, atlas_name=atlas, dimension=d)"
   ]
  }
 ],
 "metadata": {
  "kernelspec": {
   "display_name": "Python 3 (ipykernel)",
   "language": "python",
   "name": "python3"
  }
 },
 "nbformat": 4,
 "nbformat_minor": 5
}
