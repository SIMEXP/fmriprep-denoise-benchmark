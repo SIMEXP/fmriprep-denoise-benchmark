{
 "cells": [
  {
   "cell_type": "markdown",
   "id": "fe9075b1",
   "metadata": {},
   "source": [
    "# Contributions\n",
    "\n",
    "The initial API was started by Hanad Sharmarke[^1] and Pierre Bellec[^1][^7].\n",
    "The implementation was completed by Hao-Ting Wang[^1], Steven Meisler[^2][^3], François Paugam[^1][^4], Pierre Bellec.\n",
    "Hao-Ting Wang migrated the code base to `nilearn`.\n",
    "Nicolas Gensollen[^5] and Bertrand Thirion[^5] reviewed the code migrated to `nilearn`.\n",
    "We thank Chris Markiewicz[^6] for feedbacks related to fMRIPrep.\n",
    "\n",
    "Hao-Ting Wang and Pierre Bellec drafted the paper. Natasha Clarke[^1] revised and provided critical feed backs.\n",
    "\n",
    "All co-authors contributed to and approved the final version of the manuscript. \n",
    "\n",
    "Please see the [original repository](https://github.com/SIMEXP/load_confounds#contributors-) for a full history of development and contributors,\n",
    "and this [issue](https://github.com/nilearn/nilearn/issues/2777) for a history of the integration in Nilearn and all the linked Pull Requests.\n",
    "\n",
    "[^1]: Centre de recherche de l'institut Universitaire de gériatrie de Montréal (CRIUGM), Montréal, Québec, Canada\n",
    "\n",
    "[^2]: Harvard University, MA, USA\n",
    "\n",
    "[^3]: Massachusetts Institute of Technology, MA, USA\n",
    "\n",
    "[^4]: Computer Science and Operations Research Department, Université de Montréal, Montréal, Québec, Canada\n",
    "\n",
    "[^5]: Inria, CEA, Université Paris-Saclay, Paris, France\n",
    "\n",
    "[^6]: Department of Psychology, Stanford University, Stanford, United States\n",
    "\n",
    "[^7]: Psychology Department, Université de Montréal, Montréal, Québec, Canada\n",
    "\n",
    "## Acknowledgments\n",
    "\n",
    "The project is funded by IVADO PRF3, CCNA and J Courtois, the neuromind collaboration. \n",
    "HTW and NC funded by Institut de valorisation des données (IVADO) postdoctoral research funding. \n",
    "SLM was funded by the National Institute on Deafness and Other Communication Disorders (NIDCD; Grant 5T32DC000038). \n",
    "CJM funded by NIMH 5R24MH117179. \n",
    "FP funded by Courtois Neuromod. \n",
    "PB funded by Fonds de Recherche du Québec - Santé (FRQ-S)."
   ]
  }
 ],
 "metadata": {
  "kernelspec": {
   "display_name": "Python 3",
   "language": "python",
   "name": "python3"
  }
 },
 "nbformat": 4,
 "nbformat_minor": 5
}
