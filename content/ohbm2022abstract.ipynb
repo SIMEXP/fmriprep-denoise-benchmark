{
 "cells": [
  {
   "cell_type": "markdown",
   "metadata": {},
   "source": [
    "# OHBM 2022 abstract"
   ]
  },
  {
   "cell_type": "code",
   "execution_count": null,
   "metadata": {
    "tags": [
     "hide-input",
     "hide-output"
    ]
   },
   "outputs": [],
   "source": [
    "import tarfile\n",
    "import io\n",
    "from pathlib import Path\n",
    "import pandas as pd\n",
    "import numpy as np\n",
    "import matplotlib.pyplot as plt\n",
    "import seaborn as sns\n",
    "from scipy.stats import zscore, spearmanr\n",
    "from fmriprep_denoise.metrics import partial_correlation, fdr, calculate_median_absolute\n",
    "\n",
    "\n",
    "# Load metric data\n",
    "path_root = Path.cwd().parents[0] / \"inputs\"\n",
    "file_qcfc = \"dataset-ds000288_atlas-schaefer7networks_nroi-400_desc-qcfc.tsv\"\n",
    "file_dist = \"atlas/schaefer7networks/atlas-schaefer7networks_nroi-400_desc-distance.tsv\"\n",
    "file_network = \"dataset-ds000288_atlas-schaefer7networks_nroi-400_desc-modularity.tsv\"\n",
    "file_dataset = \"dataset-ds000288_gsr.tar.gz\"\n",
    "\n",
    "# load data\n",
    "with tarfile.open(path_root / file_dataset, 'r:gz') as tar:\n",
    "    movement = tar.extractfile(\n",
    "        \"dataset-ds000288/dataset-ds000288_desc-movement_phenotype.tsv\").read()\n",
    "    movement = pd.read_csv(io.BytesIO(movement),\n",
    "                        sep='\\t', index_col=0, header=0, encoding='utf8')\n",
    "    movement = movement.sort_index()\n",
    "\n",
    "\n",
    "pairwise_distance = pd.read_csv(path_root / file_dist, sep='\\t')\n",
    "qcfc = pd.read_csv(path_root / file_qcfc, sep='\\t', index_col=0)\n",
    "modularity = pd.read_csv(path_root / file_network, sep='\\t', index_col=0)\n",
    "\n",
    "\n",
    "# separate correlation from siginficant value\n",
    "sig_per_edge = qcfc.filter(regex=\"pvalue\")\n",
    "sig_per_edge.columns = [col.split('_')[0] for col in sig_per_edge.columns]\n",
    "metric_per_edge = qcfc.filter(regex=\"correlation\")\n",
    "metric_per_edge.columns = [col.split('_')[0] for col in metric_per_edge.columns]"
   ]
  },
  {
   "cell_type": "markdown",
   "id": "76155722",
   "metadata": {},
   "source": [
    "## Impact of confound removal strategies on functional connectivity generated from fMRIprep preprocessed data\n",
    "\n",
    "\n",
    "H-T Wang[^1], P Bellec[^1][^2]\n",
    "\n",
    "[^1]: CRIUGM - Université de Montréal, Montréal, QC, Canada\n",
    "[^2]: Université de Montréal, Montréal, QC, Canada\n",
    "\n",
    "\n",
    "### Introduction\n",
    "\n",
    "Denoising strategy is an important topic in fMRI data analysis. \n",
    "The impact of the choice of confound regressor on functional connectivity has been a key debates in the field of fMRI (cf. global signal regression). \n",
    "Recent minimal preprocessing pipeline, fMRIPrep {cite:p}`esteban_fmriprep_2020`, aims to reduce the degree of freedom during the preprocessing step. \n",
    "However, a wide range of confound regressors can still introduce errors by the users.\n",
    "It’s difficult to navigate the confounds and implement the sensible subset of variables in downstream analysis. \n",
    "Without good understanding of the literature or the fMRIPrep documentation, users can still introduce error or unwanted noise while performing confound regressing. \n",
    "Lastly, recent literature has shown the tool-based variability and the potential impact on the results {cite:p}`li_moving_2021`. \n",
    "The current research on benchmarking confounds have yet cover the output from fMRIPrep. \n",
    "We hope to provide a useful reference for fMRIPrep users, and evaluate if the implementation in fMRIPrep provides consistent results as the past literature using other preprocessing procedures. \n",
    "\n",
    "\n",
    "### Methods\n",
    "\n",
    "The dataset of choice is ds000228 {cite:p}`richardson_development_2018` on OpenNeuro, preprocessed with fMRIprep LTS20.2.1, using fMRIPrep-slurm wrapper with option `--use-aroma`. \n",
    "Time series are extracted using Schaefer 7 network atlas of 400 dimensions {cite:p}`schaefer_local-global_2017` and applied the following denoising strategies:\n",
    "\n",
    "- `simple`: high pass filtering, motion (six base motion parameters and temporal derivatives, quadratic terms and their six temporal derivatives, 24 parameters in total), signal from tissue masks (white matter and  csf, 2 parameters), applied on output suffixed`desc-prepro_bold`.\n",
    "- `simple+gsr`: strategy above, with basic global signal, applied on output suffixed`desc-prepro_bold`.\n",
    "- `scrubbing`: high pass filtering, motion (six base motion parameters and temporal derivatives, quadratic terms and their six temporal derivatives, 24 parameters in total),  signal from tissue masks (white matter and csf, basic, the temporal derivative and quadratic, 8 parameters), motion outlier threshold set at 0.5 framewise displacement, segments with less than 5 consecutive volumes are removed, applied on output suffixed`desc-prepro_bold`.\n",
    "- `scrubbing+gsr`: strategy above, with basic global signal, applied on output suffixed`desc-prepro_bold`.\n",
    "- `acompcor`: high pass filtering, 24 motion parameters, compcor components explaining 50% of the variance with combined white matter and csf mask, applied on output suffixed`desc-prepro_bold`.\n",
    "- `acompcor6`: high pass filtering, 24 motion parameters, top 6 compcor components with combined white matter and csf mask.\n",
    "- `aroma`: high pass filtering, signal from tissue masks (white matter and  csf, 2 parameters), applied on output suffixed `desc-smoothAROMAnonaggr_bold`.\n",
    "- `aroma+gsr`: high pass filtering, signal from tissue masks (white matter and  csf, 2 parameters), global signal, applied on output suffixed `desc-smoothAROMAnonaggr_bold`.\n",
    "\n",
    "In addition, we also calculated the connectome based on the raw timeseries as a reference.\n",
    "\n",
    "Here we provide an uniformed API to retrieve fMRIPrep generated confounds implemented in NiLearn {cite:p}`abraham_machine_2014`. \n",
    "Timeseries, connectome, and confounds removal are all implemented through NiLearn.\n",
    "\n",
    "The current study used three metrics from {cite:t}`ciric_benchmarking_2017` to evaluate the denosing results: \n",
    "1. Quality control / functional connectivity (QCFC {cite:p}`power_recent_2015`): Partial correlation between motion and connectivity with age and sex as covariates; multiple comparison in the significant testing is controled with false positive rate correction.\n",
    "2. Distance-dependent effects of motion on connectivity {cite:p}`power_spurious_2012`\n",
    "3. Network identifiability based on Louvain method of community detection {cite:p}`satterthwaite_impact_2012` implemented by Brain Connnectome Toolbox\n",
    "\n",
    "Code and processed data to reproduce the current analysis can be found on [github](https://github.com/SIMEXP/fmriprep-denoise-benchmark). \n",
    "\n",
    "### Results\n",
    "\n",
    "The proportion of connectivity edges correlating with motion"
   ]
  },
  {
   "cell_type": "code",
   "execution_count": null,
   "metadata": {
    "tags": [
     "hide-input"
    ]
   },
   "outputs": [],
   "source": [
    "bar_color = sns.color_palette()[0]\n",
    "\n",
    "# multiple comparision on qcfc\n",
    "long_qcfc_sig= sig_per_edge.melt()\n",
    "long_qcfc_sig['fdr'] = long_qcfc_sig.groupby('variable')['value'].transform(fdr)\n",
    "long_qcfc_sig = long_qcfc_sig.groupby('variable').apply(lambda x: 100*x.fdr.sum()/x.fdr.shape[0])\n",
    "long_qcfc_sig = pd.DataFrame(long_qcfc_sig, columns=[\"p_corrected\"])\n",
    "\n",
    "order = long_qcfc_sig.sort_values('p_corrected').index.tolist()\n",
    "ax = sns.barplot(data=long_qcfc_sig.T, ci=None, order=order, color=bar_color)\n",
    "ax.set_title(\"Percentage of edge significantly correlated with mean FD\")\n",
    "ax.set_xticklabels(ax.get_xticklabels(), rotation=90)\n",
    "ax.set(ylabel=\"Percentage %\",\n",
    "       xlabel=\"confound removal strategy\")\n",
    "plt.tight_layout()"
   ]
  },
  {
   "cell_type": "code",
   "execution_count": null,
   "metadata": {
    "tags": [
     "hide-input"
    ]
   },
   "outputs": [],
   "source": [
    "median_absolute = metric_per_edge.apply(calculate_median_absolute)\n",
    "order = median_absolute.sort_values().index.tolist()\n",
    "\n",
    "ax = sns.barplot(data=(pd.DataFrame(median_absolute).T), ci=None, order=order, color=bar_color)\n",
    "ax.set_title(\"Absolute median QC-FC\")\n",
    "ax.set_xticklabels(ax.get_xticklabels(), rotation=90)\n",
    "ax.set(ylabel=\"Absolute median\",\n",
    "       xlabel=\"confound removal strategy\")\n",
    "plt.tight_layout()\n",
    "\n",
    "def draw_absolute_median(data, **kws):\n",
    "    ax = plt.gca()\n",
    "    mad = calculate_median_absolute(data['qcfc'])\n",
    "    ax.vlines(mad, ymin=0, ymax=0.35, color='r', linestyle=':')\n",
    "    \n",
    "\n",
    "long_qcfc = metric_per_edge.melt()\n",
    "long_qcfc.columns = [\"Strategy\", \"qcfc\"]\n",
    "long_qcfc[\"row\"] = np.sort(np.tile(np.arange(3), int(long_qcfc.shape[0] / 3)))\n",
    "long_qcfc[\"col\"] = np.tile(np.sort(np.tile(np.arange(3), int(long_qcfc.shape[0] / 9))), 3)\n",
    "\n",
    "g = sns.displot(\n",
    "    long_qcfc, x=\"qcfc\", col=\"col\", row=\"row\", kind='kde', fill=True, height=1.5, aspect=2\n",
    ")\n",
    "g.set(ylabel=\"Density\")\n",
    "g.map_dataframe(draw_absolute_median)\n",
    "for i, name in zip(range(9), metric_per_edge.columns):\n",
    "    axis_i = int(i / 3)\n",
    "    axis_j = i % 3\n",
    "    g.facet_axis(axis_i, axis_j).set(title=name)\n",
    "    if axis_i == 2:\n",
    "        g.facet_axis(axis_i, axis_j).set(xlabel=\"Pearson\\'s correlation: \\nmean FD and\\nconnectome edges\")\n",
    "        \n",
    "g.fig.subplots_adjust(top=0.9) \n",
    "g.fig.suptitle('Distribution of correlation between framewise distplacement and edge strength')\n",
    "plt.tight_layout()"
   ]
  },
  {
   "cell_type": "code",
   "execution_count": null,
   "metadata": {
    "tags": [
     "hide-input"
    ]
   },
   "outputs": [],
   "source": [
    "corr_distance, p_val = spearmanr(pairwise_distance.iloc[:, -1], metric_per_edge)\n",
    "# corr_distance = np.corrcoef(pairwise_distance.iloc[:, -1], metric_per_edge.T)\n",
    "\n",
    "corr_distance = pd.DataFrame(corr_distance[1:, 0], index=metric_per_edge.columns)\n",
    "long_qcfc['distance'] = np.tile(pairwise_distance.iloc[:, -1].values, 9)\n",
    "\n",
    "order = corr_distance.sort_values(0).index.tolist()\n",
    "\n",
    "ax = sns.barplot(data=corr_distance.T, ci=None, order=order, color=bar_color)\n",
    "ax.set_xticklabels(ax.get_xticklabels(), rotation=90)\n",
    "ax.set_title(\"Distance-dependent effects of motion\")\n",
    "ax.set(ylim=(-0.05, 0.05))\n",
    "ax.set(ylabel=\"Nodewise correlation between\\nEuclidian distance and QC-FC metric\",\n",
    "        xlabel=\"confound removal strategy\")\n",
    "plt.tight_layout()\n",
    "\n",
    "g = sns.FacetGrid(long_qcfc, col=\"col\", row=\"row\", height=1.7, aspect=1.5)\n",
    "g.map(sns.regplot, 'distance', 'qcfc', fit_reg=True, ci=None, \n",
    "      line_kws={'color': 'red'}, scatter_kws={'s': 0.5, 'alpha': 0.15,})\n",
    "g.refline(y=0)\n",
    "for i, name in zip(range(9), metric_per_edge.columns):\n",
    "    axis_i = int(i / 3)\n",
    "    axis_j = i % 3\n",
    "    g.facet_axis(axis_i, axis_j).set(title=name)\n",
    "    if axis_i == 2:\n",
    "        g.facet_axis(axis_i, axis_j).set(xlabel=\"Distance (mm)\")\n",
    "    if axis_j == 0:\n",
    "        g.facet_axis(axis_i, axis_j).set(xlabel=\"QC-FC\")\n",
    "        \n",
    "g.fig.subplots_adjust(top=0.9) \n",
    "g.fig.suptitle('Correlation between nodewise Euclidian distance and QC-FC')\n",
    "plt.tight_layout()"
   ]
  },
  {
   "cell_type": "code",
   "execution_count": null,
   "metadata": {
    "tags": [
     "hide-input"
    ]
   },
   "outputs": [],
   "source": [
    "corr_modularity = []\n",
    "z_movment = movement.apply(zscore)\n",
    "for column, values in modularity.iteritems():\n",
    "    current_strategy = partial_correlation(values.values, \n",
    "                                           z_movment['mean_framewise_displacement'].values, \n",
    "                                           z_movment[['Age', 'Gender']].values)\n",
    "    current_strategy['strategy'] = column\n",
    "    corr_modularity.append(current_strategy)\n",
    "\n",
    "plt.figure(figsize=(7, 5))\n",
    "plt.subplot(1, 2, 1)\n",
    "order = modularity.mean().sort_values().index.tolist()\n",
    "ax = sns.barplot(data=modularity, order=order, color=bar_color)\n",
    "ax.set_xticklabels(ax.get_xticklabels(), rotation=90)\n",
    "ax.set_title(\"Identifiability of network structure\\nafter denoising\")\n",
    "ax.set(ylabel=\"Mean modularity quality (a.u.)\",\n",
    "       xlabel=\"confound removal strategy\")\n",
    "plt.subplot(1, 2, 2)\n",
    "\n",
    "corr_modularity = pd.DataFrame(corr_modularity).sort_values('correlation')\n",
    "ax = sns.barplot(data=corr_modularity, y='correlation', x='strategy', ci=None, color=bar_color)\n",
    "ax.set_xticklabels(ax.get_xticklabels(), rotation=90)\n",
    "ax.set_title(\"Correlation between\\nnetwork modularity and \\nmean framewise displacement\")\n",
    "ax.set(ylabel=\"Pearson's correlation\",\n",
    "       xlabel=\"confound removal strategy\")\n",
    "plt.tight_layout()"
   ]
  },
  {
   "cell_type": "markdown",
   "metadata": {},
   "source": [
    "### Conclusions\n",
    "\n",
    "The denosing methods involving global signal regreesion is systematically contradicting with the literature {cite:p}`ciric_benchmarking_2017` {cite:p}`parkes_evaluation_2018`. \n",
    "Further investigation is needed.\n",
    "We will to run the same benchmark on different fMRIPrepLTS outputs and different type of parcelation scheme.\n",
    "The aim is to provide a software for researchers to produce the benchmark for their own dataset to select the most suitable strategy.\n",
    "\n",
    "### References\n",
    "```{bibliography}\n",
    ":filter: docname in docnames\n",
    "```"
   ]
  },
  {
   "cell_type": "code",
   "execution_count": null,
   "metadata": {},
   "outputs": [],
   "source": []
  }
 ],
 "metadata": {
  "jupytext": {
   "formats": "ipynb,md:myst"
  },
  "kernelspec": {
   "display_name": "Python 3 (ipykernel)",
   "language": "python",
   "name": "python3"
  },
  "language_info": {
   "codemirror_mode": {
    "name": "ipython",
    "version": 3
   },
   "file_extension": ".py",
   "mimetype": "text/x-python",
   "name": "python",
   "nbconvert_exporter": "python",
   "pygments_lexer": "ipython3",
   "version": "3.8.10"
  },
  "widgets": {
   "application/vnd.jupyter.widget-state+json": {
    "state": {},
    "version_major": 2,
    "version_minor": 0
   }
  }
 },
 "nbformat": 4,
 "nbformat_minor": 4
}
