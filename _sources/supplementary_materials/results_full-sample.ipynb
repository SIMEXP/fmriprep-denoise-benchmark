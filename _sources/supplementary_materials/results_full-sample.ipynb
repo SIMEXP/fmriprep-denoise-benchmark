{
 "cells": [
  {
   "cell_type": "markdown",
   "id": "c6a833f6",
   "metadata": {},
   "source": [
    "# Full sample motion profile and loss in degrees of freedom"
   ]
  },
  {
   "cell_type": "code",
   "execution_count": 1,
   "id": "b51b9412",
   "metadata": {
    "tags": [
     "hide-input",
     "remove-output"
    ]
   },
   "outputs": [],
   "source": [
    "import warnings\n",
    "\n",
    "warnings.filterwarnings('ignore')\n",
    "from pathlib import Path\n",
    "import numpy as np\n",
    "import pandas as pd\n",
    "import matplotlib.pyplot as plt\n",
    "import seaborn as sns\n",
    "from fmriprep_denoise.visualization import figures, tables, utils\n",
    "from myst_nb import glue\n",
    "\n",
    "\n",
    "path_root = utils.get_data_root() / \"denoise-metrics\"\n",
    "\n",
    "strategy_order = list(utils.GRID_LOCATION.values())\n",
    "group_order = {'ds000228': ['adult', 'child'], 'ds000030':['control', 'ADHD', 'bipolar', 'schizophrenia']}"
   ]
  },
  {
   "cell_type": "markdown",
   "id": "9f92f6b9",
   "metadata": {},
   "source": [
    "## Level of motion in samples quantified by mean framewise displacement"
   ]
  },
  {
   "cell_type": "code",
   "execution_count": 2,
   "id": "595238e7",
   "metadata": {
    "tags": [
     "hide-input",
     "remove-output"
    ]
   },
   "outputs": [
    {
     "ename": "TypeError",
     "evalue": "get_descriptive_data() missing 1 required positional argument: 'path_root'",
     "output_type": "error",
     "traceback": [
      "\u001b[0;31m---------------------------------------------------------------------------\u001b[0m",
      "\u001b[0;31mTypeError\u001b[0m                                 Traceback (most recent call last)",
      "\u001b[0;32m/tmp/ipykernel_20779/4215049233.py\u001b[0m in \u001b[0;36m<module>\u001b[0;34m\u001b[0m\n\u001b[1;32m      6\u001b[0m \u001b[0mbaseline_groups\u001b[0m \u001b[0;34m=\u001b[0m \u001b[0;34m[\u001b[0m\u001b[0;34m'adult'\u001b[0m\u001b[0;34m,\u001b[0m \u001b[0;34m'control'\u001b[0m\u001b[0;34m]\u001b[0m\u001b[0;34m\u001b[0m\u001b[0;34m\u001b[0m\u001b[0m\n\u001b[1;32m      7\u001b[0m \u001b[0;32mfor\u001b[0m \u001b[0mdataset\u001b[0m\u001b[0;34m,\u001b[0m \u001b[0mbaseline_group\u001b[0m \u001b[0;32min\u001b[0m \u001b[0mzip\u001b[0m\u001b[0;34m(\u001b[0m\u001b[0mdatasets\u001b[0m\u001b[0;34m,\u001b[0m \u001b[0mbaseline_groups\u001b[0m\u001b[0;34m)\u001b[0m\u001b[0;34m:\u001b[0m\u001b[0;34m\u001b[0m\u001b[0;34m\u001b[0m\u001b[0m\n\u001b[0;32m----> 8\u001b[0;31m     \u001b[0m_\u001b[0m\u001b[0;34m,\u001b[0m \u001b[0mdata\u001b[0m\u001b[0;34m,\u001b[0m \u001b[0mgroups\u001b[0m \u001b[0;34m=\u001b[0m \u001b[0mtables\u001b[0m\u001b[0;34m.\u001b[0m\u001b[0mget_descriptive_data\u001b[0m\u001b[0;34m(\u001b[0m\u001b[0mdataset\u001b[0m\u001b[0;34m,\u001b[0m \u001b[0mpath_root\u001b[0m\u001b[0;34m)\u001b[0m\u001b[0;34m\u001b[0m\u001b[0;34m\u001b[0m\u001b[0m\n\u001b[0m\u001b[1;32m      9\u001b[0m     \u001b[0mbaseline\u001b[0m \u001b[0;34m=\u001b[0m \u001b[0mdata\u001b[0m\u001b[0;34m[\u001b[0m\u001b[0mdata\u001b[0m\u001b[0;34m[\u001b[0m\u001b[0;34m'groups'\u001b[0m\u001b[0;34m]\u001b[0m \u001b[0;34m==\u001b[0m \u001b[0mbaseline_group\u001b[0m\u001b[0;34m]\u001b[0m\u001b[0;34m\u001b[0m\u001b[0;34m\u001b[0m\u001b[0m\n\u001b[1;32m     10\u001b[0m     \u001b[0;32mfor\u001b[0m \u001b[0mgroup\u001b[0m \u001b[0;32min\u001b[0m \u001b[0mgroup_order\u001b[0m\u001b[0;34m[\u001b[0m\u001b[0mdataset\u001b[0m\u001b[0;34m]\u001b[0m\u001b[0;34m:\u001b[0m\u001b[0;34m\u001b[0m\u001b[0;34m\u001b[0m\u001b[0m\n",
      "\u001b[0;31mTypeError\u001b[0m: get_descriptive_data() missing 1 required positional argument: 'path_root'"
     ]
    }
   ],
   "source": [
    "from statsmodels.stats.weightstats import ttest_ind\n",
    "\n",
    "for_plotting = {}\n",
    "\n",
    "datasets = ['ds000228', 'ds000030']\n",
    "baseline_groups = ['adult', 'control']\n",
    "for dataset, baseline_group in zip(datasets, baseline_groups):\n",
    "    _, data, groups = tables.get_descriptive_data(dataset, path_root)\n",
    "    baseline = data[data['groups'] == baseline_group]\n",
    "    for group in group_order[dataset]:\n",
    "        compare = data[data['groups'] == group]\n",
    "        glue(\n",
    "            f'{dataset}_{group}_mean',\n",
    "            compare['mean_framewise_displacement'].mean(),\n",
    "        )\n",
    "        glue(\n",
    "            f'{dataset}_{group}_sd',\n",
    "            compare['mean_framewise_displacement'].std(),\n",
    "        )\n",
    "        glue(\n",
    "            f'{dataset}_{group}_n',\n",
    "            compare.shape[0],\n",
    "        )\n",
    "        if group != baseline_group:\n",
    "            t_stats, pval, df = ttest_ind(\n",
    "                baseline['mean_framewise_displacement'],\n",
    "                compare['mean_framewise_displacement'],\n",
    "                usevar='unequal',\n",
    "            )\n",
    "            glue(f'{dataset}_t_{group}', t_stats)\n",
    "            glue(f'{dataset}_p_{group}', pval)\n",
    "            glue(f'{dataset}_df_{group}', df)\n",
    "    for_plotting.update({dataset: data})"
   ]
  },
  {
   "cell_type": "markdown",
   "id": "2898b61f",
   "metadata": {},
   "source": [
    "We will firstly characterise motion through the mean framewise displacement of each sample and the sub-groups in {numref}`fig:meanFD-original`.\n",
    "This report will serve as a reference point for understanding the remainder of the results.\n",
    "In `ds000228`, there was a significant difference in motion during the scan captured by mean framewise displacement \n",
    "between the child \n",
    "(M = {glue:text}`ds000228_child_mean:.2f`, SD = {glue:text}`ds000228_child_sd:.2f`, n = {glue:text}`ds000228_child_n:i`)\n",
    "and adult sample\n",
    "(M = {glue:text}`ds000228_adult_mean:.2f`, SD = {glue:text}`ds000228_adult_sd:.2f`, n = {glue:text}`ds000228_adult_n:i`;\n",
    "t({glue:text}`ds000228_df_child:.2f`) = {glue:text}`ds000228_t_child:.2f`, p = {glue:text}`ds000228_p_child:.3f`).\n",
    "This is consistent with the existing literature.\n",
    "In `ds000030`, the only patient group shows a difference compared to the\n",
    "control \n",
    "(M = {glue:text}`ds000030_control_mean:.2f`, SD = {glue:text}`ds000030_control_sd:.2f`, n = {glue:text}`ds000030_control_n:i`)\n",
    "is the schizophrenia group \n",
    "(M = {glue:text}`ds000030_schizophrenia_mean:.2f`, SD = {glue:text}`ds000030_schizophrenia_sd:.2f`, n = {glue:text}`ds000030_schizophrenia_n:i`;\n",
    "t({glue:text}`ds000030_df_schizophrenia:.2f`) = {glue:text}`ds000030_t_schizophrenia:.2f`, p = {glue:text}`ds000030_p_schizophrenia:.3f`).\n",
    "There was no difference between the control and ADHD group\n",
    "(M = {glue:text}`ds000030_ADHD_mean:.2f`, SD = {glue:text}`ds000030_ADHD_sd:.2f`, n = {glue:text}`ds000030_ADHD_n:i`;\n",
    "t({glue:text}`ds000030_df_ADHD:.2f`) = {glue:text}`ds000030_t_ADHD:.2f`, p = {glue:text}`ds000030_p_ADHD:.3f`),\n",
    "or the bipolar group \n",
    "(M = {glue:text}`ds000030_bipolar_mean:.2f`, SD = {glue:text}`ds000030_bipolar_sd:.2f`, n = {glue:text}`ds000030_bipolar_n:i`;\n",
    "t({glue:text}`ds000030_df_bipolar:.2f`) = {glue:text}`ds000030_t_bipolar:.2f`, p = {glue:text}`ds000030_p_bipolar:.3f`).\n",
    "In conclusion, adult samples have lower mean framewise displacement than youth samples."
   ]
  },
  {
   "cell_type": "code",
   "execution_count": null,
   "id": "f828e31c",
   "metadata": {
    "tags": [
     "hide-input",
     "remove-output"
    ]
   },
   "outputs": [],
   "source": [
    "fig = plt.figure(figsize=(7, 5))\n",
    "axs = fig.subplots(1, 2, sharey=True)\n",
    "for dataset, ax in zip(for_plotting, axs):\n",
    "    df = for_plotting[dataset]\n",
    "    mean_fd = df['mean_framewise_displacement'].mean()\n",
    "    sd_fd = df['mean_framewise_displacement'].std()\n",
    "    df = df.rename(\n",
    "        columns={\n",
    "            'mean_framewise_displacement': 'Mean Framewise Displacement (mm)',\n",
    "            'groups': 'Groups'\n",
    "        }\n",
    "    )\n",
    "    sns.boxplot(\n",
    "        y='Mean Framewise Displacement (mm)', x='Groups', data=df, ax=ax,\n",
    "        order=group_order[dataset]\n",
    "    )\n",
    "    ax.set_xticklabels(group_order[dataset], rotation=45, ha='right', rotation_mode='anchor')\n",
    "    ax.set_title(\n",
    "        f'{dataset}\\nMean\\u00B1SD={mean_fd:.2f}\\u00B1{sd_fd:.2f}\\n$N={df.shape[0]}$'\n",
    "    )\n",
    "# fig.suptitle(\"Mean framewise displacement per sub-sample\")\n",
    "\n",
    "glue('meanFD-original', fig, display=False)"
   ]
  },
  {
   "cell_type": "markdown",
   "id": "f76ab955",
   "metadata": {},
   "source": [
    "```{glue:figure} meanFD-original\n",
    ":name: \"fig:meanFD-original\"\n",
    "\n",
    "Mean framewise displacement of each dataset.\n",
    "\n",
    "We found young subjects have higher motion compared to adults,\n",
    "which is consistent with the pattern described in the literature.\n",
    "Amongst psychiatric conditions, only the schizophrenia group shows a difference from the control group.\n",
    "```\n",
    "\n",
    "## The loss in temporal degrees of freedom in different strategies\n",
    "\n",
    "The common analysis and denoising methods are based on linear regression.\n",
    "Using more nuisance regressors can capture additional sources of noise-related variance in the data and thus improve denoising.\n",
    "However, this comes at the expense of a loss of temporal degrees of freedom for statistical inference in further analysis.\n",
    "This is an important point to consider alongside the denoising performance.\n",
    "\n",
    "The average loss in temporal degrees of freedom by regressor number is summarised in {numref}`fig:dof-fig`.\n",
    "In fMRIPrep, high-pass filtering is done through discrete cosine-basis regressors, \n",
    "labeled as `cosine_*` in fMRIPrep confounds output.\n",
    "In the following section, the number of discrete cosine-basis regressors will be denoted as $c$. \n",
    "Depending on the length of the scan, the number of discrete cosine-basis regressors can differ ($c_{ds000228}=4$, $c_{ds000030}=3$). \n",
    "The `simple` and `scrubbing`-based strategies are the strategy with a fixed number of degrees of freedom loss.\n",
    "`compcor` and `aroma`-based strategies show variability depending on the number of noise components detected.\n",
    "In theory, `compcor6` should also report a fixed number of degrees of freedom loss.\n",
    "However, fMRIPrep outputs the compcor components based on the 50% variance cut-off.\n",
    "For some subjects the number of components could be lower than 6, hence the variability.\n",
    "\n",
    "In {cite:t}`ciric_benchmarking_2017`, the equivalent `aroma` and `aroma+gsr` strategies were reported with \n",
    "a lower magnitude of loss in temporal degrees of freedom than `scrubbing` or `simple` strategies.\n",
    "However, we did not observe this advantage is limited to samples with relatively low motion (i.e. adults).\n",
    "When selecting a denoising strategy, \n",
    "The two datasets used in the current benchmark both contained subjects with behaviours deviating from the healthy controls.\n",
    "`ds000228` consists of adult healthy controls and children.\n",
    "`ds000030` includes healthy controls and subjects with three different psychiatric conditions.\n",
    "the loss in degrees of freedom `simple` ($26 + c$) and `simple+gsr` ($27 + c$) used the least amount of regressors in the general population.\n",
    "Certain sub-sample uses fewer regressors with the `aroma` and `aroma+gsr` strategies.\n",
    "The reason potentially lies in the implementation of ICA-AROMA. \n",
    "ICA-AROMA uses a pre-trained model on healthy subjects to select noise components {cite:p}`aroma`."
   ]
  },
  {
   "cell_type": "code",
   "execution_count": null,
   "id": "6d9bf6d0",
   "metadata": {
    "tags": [
     "hide-input",
     "remove-output"
    ]
   },
   "outputs": [],
   "source": [
    "fig, ds_groups = figures.plot_dof_dataset(path_root)\n",
    "glue(f'dof-fig', fig, display=False)\n",
    "for ds, group in ds_groups:\n",
    "    glue(f'group-order_{ds}', group, display=False)"
   ]
  },
  {
   "cell_type": "markdown",
   "id": "9a47f119",
   "metadata": {},
   "source": [
    "```{glue:figure} dof-fig\n",
    ":name: \"fig:dof-fig\"\n",
    "\n",
    "Loss in temporal degrees of freedom breaks down into groups.\n",
    "\n",
    "`compcor` and `aroma`-based strategies show variability depending on the number of noise components detected.\n",
    "The variability is broken down into groups.\n",
    "From the lightest hue to the darkest, the order of the group in `ds000228` is:\n",
    "{glue:}`group-order_ds000228`.\n",
    "From the lightest hue to the darkest, the order of the group in `ds000030` is:\n",
    "{glue:}`group-order_ds000030`.\n",
    "```\n",
    "\n",
    "To compare the loss in the number of volumes from the scrubbing base strategy across datasets,\n",
    "we calculate the proportion of volume loss to the number of volumes in a full scan ({numref}`fig:scrubbing-fig`).\n",
    "`ds000228` includes child subjects and shows a higher loss in volumes compared to `ds000030` with adult subjects only.\n",
    "This is consistent with the trend in the difference in mean framewise displacement,\n",
    "and it fits the observation shown in literature {cite:p}`satterthwaite_impact_2012`.\n",
    "In `ds000030`, we see a similar trend mirroring the mean framewise displacement results.\n",
    "The schizophrenia group shows the highest amount of volumes scrubbed,\n",
    "followed by the bipolar group, and comparable results between the control group and ADHD group.\n",
    "With a stringent 0.2 mm threshold, groups with high motion will lose on average close to half of the volumes."
   ]
  },
  {
   "cell_type": "code",
   "execution_count": null,
   "id": "0b7d6529",
   "metadata": {
    "tags": [
     "hide-input",
     "remove-output"
    ]
   },
   "outputs": [],
   "source": [
    "fig = figures.plot_vol_scrubbed_dataset(path_root)\n",
    "glue(f'scrubbing-fig', fig, display=False)"
   ]
  },
  {
   "cell_type": "markdown",
   "id": "631a3e4f",
   "metadata": {},
   "source": [
    "```{glue:figure} scrubbing-fig\n",
    ":name: \"fig:scrubbing-fig\"\n",
    "\n",
    "Loss in the number of volumes in proportion to the full length of the scan.\n",
    "\n",
    "Broken down the loss of volumes by groups in each dataset, we can see the trend is similar to the mean framewise displacement result. \n",
    "```"
   ]
  }
 ],
 "metadata": {
  "jupytext": {
   "text_representation": {
    "extension": ".md",
    "format_name": "myst",
    "format_version": 0.13,
    "jupytext_version": "1.14.1"
   }
  },
  "kernelspec": {
   "display_name": "Python 3",
   "language": "python",
   "name": "python3"
  },
  "language_info": {
   "codemirror_mode": {
    "name": "ipython",
    "version": 3
   },
   "file_extension": ".py",
   "mimetype": "text/x-python",
   "name": "python",
   "nbconvert_exporter": "python",
   "pygments_lexer": "ipython3",
   "version": "3.7.14"
  },
  "source_map": [
   12,
   16,
   36,
   40,
   76,
   101,
   127,
   169,
   175,
   200,
   204
  ]
 },
 "nbformat": 4,
 "nbformat_minor": 5
}