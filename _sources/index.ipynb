{
 "cells": [
  {
   "cell_type": "markdown",
   "id": "1704a958",
   "metadata": {},
   "source": [
    "# Summary\n",
    "\n",
    "Various fMRI denoising benchmark has been published in the past, \n",
    "however without a re-executable benchmark with unified preprocessing steps,\n",
    "the generalisability of those conclusions are unclear.\n",
    "The impact of the denoising strategies has yet to be evaluated on the popular minimal preprocessing tool fMRIPrep.\n",
    "The confound output of fMRIPrep presented the users with a range of possible nusianse regressors.\n",
    "While users are benifted from a wide selection of regressors, \n",
    "without understanding of the literature one can pick a combination of regressors that reintroduce noise to the signal.\n",
    "Current work aims to introduce an application programming interface (API) to standardise fMRIPrep confounds retrieval,\n",
    "and provide benchmarks of different strategies using functional connectivity generated from resting state data.\n",
    "The main tool is a part of \n",
    "[`nilearn`](https://nilearn.github.io/stable/modules/generated/nilearn.interfaces.fmriprep.load_confounds.html#nilearn.interfaces.fmriprep.load_confounds).\n",
    "\n",
    "![Overview of API.\\label{top_level_fig}](./images/api_summary.png)\n",
    "\n",
    "**{fa}`key` Keywords:** \n",
    "`reproducibility`, \n",
    "`fMRIPrep`, \n",
    "`nilearn`, \n",
    "`nuisance regressor`, \n",
    "`resting-state fMRI`, \n",
    "`functional connectivity`"
   ]
  }
 ],
 "metadata": {
  "jupytext": {
   "text_representation": {
    "extension": ".md",
    "format_name": "myst",
    "format_version": 0.13,
    "jupytext_version": "1.14.1"
   }
  },
  "kernelspec": {
   "display_name": "Python 3",
   "language": "python",
   "name": "python3"
  },
  "language_info": {
   "codemirror_mode": {
    "name": "ipython",
    "version": 3
   },
   "file_extension": ".py",
   "mimetype": "text/x-python",
   "name": "python",
   "nbconvert_exporter": "python",
   "pygments_lexer": "ipython3",
   "version": "3.7.14"
  },
  "source_map": [
   12
  ]
 },
 "nbformat": 4,
 "nbformat_minor": 5
}