{
 "cells": [
  {
   "cell_type": "markdown",
   "id": "175684ba",
   "metadata": {},
   "source": [
    "# Summary\n",
    "\n",
    "Reducing contributions from non-neuronal sources is a crucial step in functional magnetic resonance imaging (fMRI) analyses.\n",
    "Many viable strategies for denoising fMRI are used in the literature, \n",
    "and practitioners rely on denoising benchmarks for guidance in the selection of an appropriate choice for their study.\n",
    "However, fMRI denoising software is an ever-evolving field, and the benchmarks can quickly become obsolete as the techniques or implementations change.\n",
    "In this work, we present a fully reproducible denoising benchmark featuring a range of denoising strategies and evaluation metrics,\n",
    "built primarily on the fMRIPrep {cite:p}`fmriprep1` and Nilearn {cite:p}`nilearn` software packages.\n",
    "We apply this reproducible benchmark to investigate the robustness of the conclusions across two different datasets and two versions of fMRIPrep.\n",
    "The majority of benchmark results were consistent with prior literature.\n",
    "Scrubbing, a technique which excludes time points with excessive motion,\n",
    "combined with global signal regression, is generally effective at noise removal.\n",
    "Scrubbing however disrupts the continuous sampling of brain images and is incompatible with some statistical analyses,\n",
    "e.g. auto-regressive modeling. In this case, a simple strategy using motion parameters,\n",
    "average activity in select brain compartments, and global signal regression should be preferred.\n",
    "Importantly, we found that certain denoising strategies behave inconsistently across datasets and/or versions of fMRIPrep,\n",
    "or had a different behavior than in previously published benchmarks, especially ICA-AROMA.\n",
    "These results demonstrate that a reproducible denoising benchmark can effectively assess the robustness of conclusions across multiple datasets and software versions.\n",
    "Technologies such as BIDS-App {cite:p}`bidsapp`, the Jupyter Book {cite:p}`jupyter` and Neurolibre {cite:p}`neurolibre` provided the infrastructure to publish the metadata and report figures.\n",
    "Readers can reproduce the report figures beyond the ones reported in the published manuscript.\n",
    "With the denoising benchmark, we hope to provide useful guidelines for the community, \n",
    "and that our software infrastructure will facilitate continued development as the state-of-the-art advances. \n",
    "\n",
    "![Overview of API.\\label{top_level_fig}](./images/api_summary.png)\n",
    "\n",
    "**{fa}`key` Keywords:** \n",
    "`reproducibility`, \n",
    "`fMRIPrep`, \n",
    "`nilearn`, \n",
    "`nuisance regressor`, \n",
    "`resting-state fMRI`, \n",
    "`functional connectivity`"
   ]
  }
 ],
 "metadata": {
  "jupytext": {
   "text_representation": {
    "extension": ".md",
    "format_name": "myst",
    "format_version": 0.13,
    "jupytext_version": "1.14.1"
   }
  },
  "kernelspec": {
   "display_name": "Python 3",
   "language": "python",
   "name": "python3"
  },
  "language_info": {
   "codemirror_mode": {
    "name": "ipython",
    "version": 3
   },
   "file_extension": ".py",
   "mimetype": "text/x-python",
   "name": "python",
   "nbconvert_exporter": "python",
   "pygments_lexer": "ipython3",
   "version": "3.7.14"
  },
  "source_map": [
   12
  ]
 },
 "nbformat": 4,
 "nbformat_minor": 5
}