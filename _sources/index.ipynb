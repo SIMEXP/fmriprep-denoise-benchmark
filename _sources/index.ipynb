{
 "cells": [
  {
   "cell_type": "markdown",
   "id": "fd848d3b",
   "metadata": {},
   "source": [
    "# Abstract\n",
    "\n",
    "Various fMRI denoising benchmark has been published in the past, \n",
    "however the impact of the denoising strategies has yet to be evaluated on the popular minimal preprocessing tool fMRIPrep {cite:p}`fmriprep1`.\n",
    "The confound output of fMRIPrep presented the users with a range of possible nusianse regressors.\n",
    "While users are benifted from a wide selection of regressors, \n",
    "without understanding of the literature one can pick a combination of regressors that reintroduce noise to the signal.\n",
    "Current work aims to introduce an application programming interface (API) to standardise fMRIPrep confounds retrieval,\n",
    "and provide benchmarks of different strategies using functional connectivity generated from resting state data.\n",
    "The main tool is a part of \n",
    "[`nilearn`](https://nilearn.github.io/stable/modules/generated/nilearn.interfaces.fmriprep.load_confounds.html#nilearn.interfaces.fmriprep.load_confounds) {cite:p}`nilearn`.\n",
    "\n",
    "\n",
    ":::{dropdown} References on this page\n",
    "\n",
    "```{bibliography}\n",
    ":filter: docname in docnames\n",
    "```\n",
    ":::"
   ]
  }
 ],
 "metadata": {
  "jupytext": {
   "formats": "md:myst",
   "text_representation": {
    "extension": ".md",
    "format_name": "myst"
   }
  },
  "kernelspec": {
   "display_name": "Python 3",
   "language": "python",
   "name": "python3"
  },
  "language_info": {
   "codemirror_mode": {
    "name": "ipython",
    "version": 3
   },
   "file_extension": ".py",
   "mimetype": "text/x-python",
   "name": "python",
   "nbconvert_exporter": "python",
   "pygments_lexer": "ipython3",
   "version": "3.8.10"
  },
  "source_map": [
   11
  ]
 },
 "nbformat": 4,
 "nbformat_minor": 5
}