{
 "cells": [
  {
   "cell_type": "markdown",
   "id": "2ff0d433",
   "metadata": {},
   "source": [
    "# Abstract\n",
    "\n",
    "Various fMRI denoising benchmark has been published in the past,\n",
    "however the impact of the denoising strategies has yet to be evaluated on the popular minimal preprocessing tool fMRIPrep {cite:p}`fmriprep1`.\n",
    "The confound output of fMRIPrep presented the users with a range of possible nusianse regressors.\n",
    "While users are benifted from a wide selection of regressors,\n",
    "without understanding of the literature one can pick a combination of regressors that reintroduce noise to the signal.\n",
    "Current work aims to introduce an application programming interface (API) implemented in\n",
    "[`nilearn`](https://nilearn.github.io/stable/modules/generated/nilearn.interfaces.fmriprep.load_confounds.html#nilearn.interfaces.fmriprep.load_confounds) {cite:p}`nilearn`\n",
    "to standardise fMRIPrep confounds retrieval from the confounds outputs,\n",
    "and provide benchmarks of different strategies using functional connectivity generated from resting state data.\n",
    "We compared the connectomes generated from a set of different atlases and compare 4 classes of denoising strategies against the high-pass filtered data:\n",
    "head motion and tissue signal (`simple`), scrubbing (`scrubbing`), CompCor (`compcor`), and ICA-AROMA (`ica_aroma`).\n",
    "Furthermore, the benchmarks were performed on two datasets openly available on OpenNeuro, covering different age group and psychiartic conditions: \n",
    "`ds000228` (child and adult), and \n",
    "`ds000030` (healthy control, ADHD, bipolar, and schizophrania). \n",
    "We investigated the loss of temporal degrees of freedom of each strategy, and three functional connectivity based metrics:\n",
    "quality control / functional connectivity (QC-FC),\n",
    "distance-dependent effects of motion on connectivity, and\n",
    "denoised outcome on network modularity. \n",
    "After exluding subject with excessive motion, all strategies can reduce the correlation of motion and functional connectivity measure,\n",
    "except ICA-AROMA combined with global signal regression. \n",
    "Scrubbing based strategy is the best at eliminating distance depenency of motion.\n",
    "For network modularity, strategies including globla signal regression shows more detectable networks. <!-- results -->\n",
    "<!-- conclusion -->\n",
    "\n",
    "**{fa}`key` Keywords:** \n",
    "`reproducibility`, \n",
    "`fMRIPrep`, \n",
    "`nilearn`, \n",
    "`nuisance regressor`, \n",
    "`resting-state fMRI`, \n",
    "`functional connectivity`"
   ]
  }
 ],
 "metadata": {
  "jupytext": {
   "text_representation": {
    "extension": ".md",
    "format_name": "myst",
    "format_version": 0.13,
    "jupytext_version": "1.14.1"
   }
  },
  "kernelspec": {
   "display_name": "Python 3",
   "language": "python",
   "name": "python3"
  },
  "language_info": {
   "codemirror_mode": {
    "name": "ipython",
    "version": 3
   },
   "file_extension": ".py",
   "mimetype": "text/x-python",
   "name": "python",
   "nbconvert_exporter": "python",
   "pygments_lexer": "ipython3",
   "version": "3.8.10"
  },
  "source_map": [
   12
  ]
 },
 "nbformat": 4,
 "nbformat_minor": 5
}