{
 "cells": [
  {
   "cell_type": "markdown",
   "id": "b0b836cf",
   "metadata": {},
   "source": [
    "# Results"
   ]
  },
  {
   "cell_type": "code",
   "execution_count": 1,
   "id": "e070235a",
   "metadata": {
    "tags": [
     "hide-input",
     "remove-output"
    ]
   },
   "outputs": [
    {
     "name": "stdout",
     "output_type": "stream",
     "text": [
      "---- repo2data starting ----\n",
      "/home/haoting/.virtualenvs/connectome_confounds/lib/python3.8/site-packages/repo2data\n",
      "Config from file :\n",
      "/home/haoting/projects/fmriprep-denoise-benchmark/binder/data_requirement.json\n",
      "Destination:\n",
      "../../inputs/fmrieprep-denoise-paper\n",
      "\n",
      "Info : ../../inputs/fmrieprep-denoise-paper already downloaded\n",
      "---- repo2data starting ----\n",
      "/home/haoting/.virtualenvs/connectome_confounds/lib/python3.8/site-packages/repo2data\n",
      "Config from file :\n",
      "/home/haoting/projects/fmriprep-denoise-benchmark/binder/data_requirement.json\n",
      "Destination:\n",
      "../../inputs/fmrieprep-denoise-paper\n",
      "\n",
      "Info : ../../inputs/fmrieprep-denoise-paper already downloaded\n"
     ]
    }
   ],
   "source": [
    "import warnings\n",
    "\n",
    "warnings.filterwarnings('ignore')\n",
    "from pathlib import Path\n",
    "import numpy as np\n",
    "import pandas as pd\n",
    "import matplotlib.pyplot as plt\n",
    "import seaborn as sns\n",
    "from fmriprep_denoise.visualization import figures, tables\n",
    "from myst_nb import glue"
   ]
  },
  {
   "cell_type": "markdown",
   "id": "e35a1f19",
   "metadata": {},
   "source": [
    "## Level of motion in samples quitified by mean framewise displacement"
   ]
  },
  {
   "cell_type": "code",
   "execution_count": 2,
   "id": "7073d4e6",
   "metadata": {
    "tags": [
     "hide-input",
     "remove-output"
    ]
   },
   "outputs": [
    {
     "data": {
      "text/plain": [
       "0.3726003847486127"
      ]
     },
     "metadata": {
      "scrapbook": {
       "mime_prefix": "",
       "name": "ds000228_child_mean"
      }
     },
     "output_type": "display_data"
    },
    {
     "data": {
      "text/plain": [
       "0.28907597426004483"
      ]
     },
     "metadata": {
      "scrapbook": {
       "mime_prefix": "",
       "name": "ds000228_child_sd"
      }
     },
     "output_type": "display_data"
    },
    {
     "data": {
      "text/plain": [
       "122"
      ]
     },
     "metadata": {
      "scrapbook": {
       "mime_prefix": "",
       "name": "ds000228_child_n"
      }
     },
     "output_type": "display_data"
    },
    {
     "data": {
      "text/plain": [
       "-5.9903509055012885"
      ]
     },
     "metadata": {
      "scrapbook": {
       "mime_prefix": "",
       "name": "ds000228_t_child"
      }
     },
     "output_type": "display_data"
    },
    {
     "data": {
      "text/plain": [
       "1.5099409407527793e-08"
      ]
     },
     "metadata": {
      "scrapbook": {
       "mime_prefix": "",
       "name": "ds000228_p_child"
      }
     },
     "output_type": "display_data"
    },
    {
     "data": {
      "text/plain": [
       "148.7509307996301"
      ]
     },
     "metadata": {
      "scrapbook": {
       "mime_prefix": "",
       "name": "ds000228_df_child"
      }
     },
     "output_type": "display_data"
    },
    {
     "data": {
      "text/plain": [
       "0.1881064928771293"
      ]
     },
     "metadata": {
      "scrapbook": {
       "mime_prefix": "",
       "name": "ds000228_adult_mean"
      }
     },
     "output_type": "display_data"
    },
    {
     "data": {
      "text/plain": [
       "0.09326558238655397"
      ]
     },
     "metadata": {
      "scrapbook": {
       "mime_prefix": "",
       "name": "ds000228_adult_sd"
      }
     },
     "output_type": "display_data"
    },
    {
     "data": {
      "text/plain": [
       "33"
      ]
     },
     "metadata": {
      "scrapbook": {
       "mime_prefix": "",
       "name": "ds000228_adult_n"
      }
     },
     "output_type": "display_data"
    },
    {
     "data": {
      "text/plain": [
       "0.1481063793068254"
      ]
     },
     "metadata": {
      "scrapbook": {
       "mime_prefix": "",
       "name": "ds000030_ADHD_mean"
      }
     },
     "output_type": "display_data"
    },
    {
     "data": {
      "text/plain": [
       "0.09222778467046405"
      ]
     },
     "metadata": {
      "scrapbook": {
       "mime_prefix": "",
       "name": "ds000030_ADHD_sd"
      }
     },
     "output_type": "display_data"
    },
    {
     "data": {
      "text/plain": [
       "40"
      ]
     },
     "metadata": {
      "scrapbook": {
       "mime_prefix": "",
       "name": "ds000030_ADHD_n"
      }
     },
     "output_type": "display_data"
    },
    {
     "data": {
      "text/plain": [
       "0.971585519173292"
      ]
     },
     "metadata": {
      "scrapbook": {
       "mime_prefix": "",
       "name": "ds000030_t_ADHD"
      }
     },
     "output_type": "display_data"
    },
    {
     "data": {
      "text/plain": [
       "0.33364250271851514"
      ]
     },
     "metadata": {
      "scrapbook": {
       "mime_prefix": "",
       "name": "ds000030_p_ADHD"
      }
     },
     "output_type": "display_data"
    },
    {
     "data": {
      "text/plain": [
       "98.25741154156053"
      ]
     },
     "metadata": {
      "scrapbook": {
       "mime_prefix": "",
       "name": "ds000030_df_ADHD"
      }
     },
     "output_type": "display_data"
    },
    {
     "data": {
      "text/plain": [
       "0.18898841573626907"
      ]
     },
     "metadata": {
      "scrapbook": {
       "mime_prefix": "",
       "name": "ds000030_BIPOLAR_mean"
      }
     },
     "output_type": "display_data"
    },
    {
     "data": {
      "text/plain": [
       "0.11204297777465377"
      ]
     },
     "metadata": {
      "scrapbook": {
       "mime_prefix": "",
       "name": "ds000030_BIPOLAR_sd"
      }
     },
     "output_type": "display_data"
    },
    {
     "data": {
      "text/plain": [
       "49"
      ]
     },
     "metadata": {
      "scrapbook": {
       "mime_prefix": "",
       "name": "ds000030_BIPOLAR_n"
      }
     },
     "output_type": "display_data"
    },
    {
     "data": {
      "text/plain": [
       "-1.104984542831525"
      ]
     },
     "metadata": {
      "scrapbook": {
       "mime_prefix": "",
       "name": "ds000030_t_BIPOLAR"
      }
     },
     "output_type": "display_data"
    },
    {
     "data": {
      "text/plain": [
       "0.2716510957218563"
      ]
     },
     "metadata": {
      "scrapbook": {
       "mime_prefix": "",
       "name": "ds000030_p_BIPOLAR"
      }
     },
     "output_type": "display_data"
    },
    {
     "data": {
      "text/plain": [
       "106.72791464040314"
      ]
     },
     "metadata": {
      "scrapbook": {
       "mime_prefix": "",
       "name": "ds000030_df_BIPOLAR"
      }
     },
     "output_type": "display_data"
    },
    {
     "data": {
      "text/plain": [
       "0.2640663292252491"
      ]
     },
     "metadata": {
      "scrapbook": {
       "mime_prefix": "",
       "name": "ds000030_SCHZ_mean"
      }
     },
     "output_type": "display_data"
    },
    {
     "data": {
      "text/plain": [
       "0.19496102391926312"
      ]
     },
     "metadata": {
      "scrapbook": {
       "mime_prefix": "",
       "name": "ds000030_SCHZ_sd"
      }
     },
     "output_type": "display_data"
    },
    {
     "data": {
      "text/plain": [
       "50"
      ]
     },
     "metadata": {
      "scrapbook": {
       "mime_prefix": "",
       "name": "ds000030_SCHZ_n"
      }
     },
     "output_type": "display_data"
    },
    {
     "data": {
      "text/plain": [
       "-3.2249218047054766"
      ]
     },
     "metadata": {
      "scrapbook": {
       "mime_prefix": "",
       "name": "ds000030_t_SCHZ"
      }
     },
     "output_type": "display_data"
    },
    {
     "data": {
      "text/plain": [
       "0.0019222336876664097"
      ]
     },
     "metadata": {
      "scrapbook": {
       "mime_prefix": "",
       "name": "ds000030_p_SCHZ"
      }
     },
     "output_type": "display_data"
    },
    {
     "data": {
      "text/plain": [
       "69.42137384033886"
      ]
     },
     "metadata": {
      "scrapbook": {
       "mime_prefix": "",
       "name": "ds000030_df_SCHZ"
      }
     },
     "output_type": "display_data"
    },
    {
     "data": {
      "text/plain": [
       "0.16666143888934684"
      ]
     },
     "metadata": {
      "scrapbook": {
       "mime_prefix": "",
       "name": "ds000030_CONTROL_mean"
      }
     },
     "output_type": "display_data"
    },
    {
     "data": {
      "text/plain": [
       "0.13508817731182263"
      ]
     },
     "metadata": {
      "scrapbook": {
       "mime_prefix": "",
       "name": "ds000030_CONTROL_sd"
      }
     },
     "output_type": "display_data"
    },
    {
     "data": {
      "text/plain": [
       "120"
      ]
     },
     "metadata": {
      "scrapbook": {
       "mime_prefix": "",
       "name": "ds000030_CONTROL_n"
      }
     },
     "output_type": "display_data"
    }
   ],
   "source": [
    "from statsmodels.stats.weightstats import ttest_ind\n",
    "\n",
    "for_plotting = {}\n",
    "\n",
    "datasets = ['ds000228', 'ds000030']\n",
    "baseline_groups = ['adult', 'CONTROL']\n",
    "for dataset, baseline_group in zip(datasets, baseline_groups):\n",
    "    data, groups = tables.get_descriptive_data(dataset)\n",
    "    baseline = data[data['groups'] == baseline_group]\n",
    "    for group in groups:\n",
    "        compare = data[data['groups'] == group]\n",
    "        glue(\n",
    "            f'{dataset}_{group}_mean',\n",
    "            compare['mean_framewise_displacement'].mean(),\n",
    "        )\n",
    "        glue(\n",
    "            f'{dataset}_{group}_sd',\n",
    "            compare['mean_framewise_displacement'].std(),\n",
    "        )\n",
    "        glue(\n",
    "            f'{dataset}_{group}_n',\n",
    "            compare.shape[0],\n",
    "        )\n",
    "        if group != baseline_group:\n",
    "            t_stats, pval, df = ttest_ind(\n",
    "                baseline['mean_framewise_displacement'],\n",
    "                compare['mean_framewise_displacement'],\n",
    "                usevar='unequal',\n",
    "            )\n",
    "            glue(f'{dataset}_t_{group}', t_stats)\n",
    "            glue(f'{dataset}_p_{group}', pval)\n",
    "            glue(f'{dataset}_df_{group}', df)\n",
    "    for_plotting.update({dataset: data})"
   ]
  },
  {
   "cell_type": "markdown",
   "id": "565de06d",
   "metadata": {},
   "source": [
    "We will firstly characterise motion through the mean framewise displacement of each sample and the sub-groups.\n",
    "This report will serve as a reference point for understanding the remainder of the results.\n",
    "In `ds000228`, there was a significant difference in motion during the scan captured by mean framewise displacement \n",
    "between the child \n",
    "(M = {glue:text}`ds000228_child_mean:.2f`, SD = {glue:text}`ds000228_child_sd:.2f`, n = {glue:text}`ds000228_child_n:i`)\n",
    "and adult sample\n",
    "(M = {glue:text}`ds000228_adult_mean:.2f`, SD = {glue:text}`ds000228_adult_sd:.2f`, n = {glue:text}`ds000228_adult_n:i`,\n",
    "t({glue:text}`ds000228_df_child:.2f`) = {glue:text}`ds000228_t_child:.2f`, p = {glue:text}`ds000228_p_child:.3f`,\n",
    "This is consistent with the existing literature.\n",
    "In `ds000030`, the only patient group shows a difference comparing to the\n",
    "control \n",
    "(M = {glue:text}`ds000030_CONTROL_mean:.2f`, SD = {glue:text}`ds000030_CONTROL_sd:.2f`, n = {glue:text}`ds000030_CONTROL_n:i`)\n",
    "is the schizophrania group \n",
    "(M = {glue:text}`ds000030_SCHZ_mean:.2f`, SD = {glue:text}`ds000030_SCHZ_sd:.2f`, n = {glue:text}`ds000030_SCHZ_n:i`;\n",
    "t({glue:text}`ds000030_df_SCHZ:.2f`) = {glue:text}`ds000030_t_SCHZ:.2f`, p = {glue:text}`ds000030_p_SCHZ:.3f`).\n",
    "There was no difference between the control and ADHD group\n",
    "(M = {glue:text}`ds000030_ADHD_mean:.2f`, SD = {glue:text}`ds000030_ADHD_sd:.2f`, n = {glue:text}`ds000030_ADHD_n:i`;\n",
    "t({glue:text}`ds000030_df_ADHD:.2f`) = {glue:text}`ds000030_t_ADHD:.2f`, p = {glue:text}`ds000030_p_ADHD:.3f`),\n",
    "or the bipolar group \n",
    "(M = {glue:text}`ds000030_BIPOLAR_mean:.2f`, SD = {glue:text}`ds000030_BIPOLAR_sd:.2f`, n = {glue:text}`ds000030_BIPOLAR_n:i`;\n",
    "t({glue:text}`ds000030_df_BIPOLAR:.2f`) = {glue:text}`ds000030_t_BIPOLAR:.2f`, p = {glue:text}`ds000030_p_BIPOLAR:.3f`).\n",
    "In conclusion, adult samples has lower mean framewise displacement than a youth sample."
   ]
  },
  {
   "cell_type": "code",
   "execution_count": 3,
   "id": "d4eedc8b",
   "metadata": {
    "tags": [
     "hide-input",
     "remove-output"
    ]
   },
   "outputs": [
    {
     "data": {
      "image/png": "[encoded data removed]",
      "text/plain": [
       "<Figure size 504x360 with 2 Axes>"
      ]
     },
     "metadata": {
      "filenames": {
       "image/png": "/home/haoting/projects/fmriprep-denoise-benchmark/content/_build/jupyter_execute/research_report/results_5_0.png"
      },
      "scrapbook": {
       "mime_prefix": "application/papermill.record/",
       "name": "meanFD-fig"
      }
     },
     "output_type": "display_data"
    },
    {
     "data": {
      "image/png": "[encoded data removed]",
      "text/plain": [
       "<Figure size 504x360 with 2 Axes>"
      ]
     },
     "metadata": {
      "filenames": {
       "image/png": "/home/haoting/projects/fmriprep-denoise-benchmark/content/_build/jupyter_execute/research_report/results_5_1.png"
      },
      "needs_background": "light"
     },
     "output_type": "display_data"
    }
   ],
   "source": [
    "fig = plt.figure(figsize=(7, 5))\n",
    "axs = fig.subplots(1, 2, sharey=True)\n",
    "for dataset, ax in zip(for_plotting, axs):\n",
    "    df = for_plotting[dataset]\n",
    "    mean_fd = df['mean_framewise_displacement'].mean()\n",
    "    sd_fd = df['mean_framewise_displacement'].std()\n",
    "    df = df.rename(\n",
    "        columns={\n",
    "            'mean_framewise_displacement': 'Mean Framewise Displacement (mm)',\n",
    "            'groups': 'Groups'\n",
    "        }\n",
    "    )\n",
    "    sns.boxplot(\n",
    "        y='Mean Framewise Displacement (mm)', x='Groups', data=df, ax=ax\n",
    "    )\n",
    "    ax.set_title(\n",
    "        f'{dataset}\\nMean\\u00B1SD={mean_fd:.2f}\\u00B1{sd_fd:.2f}\\n$N={df.shape[0]}$'\n",
    "    )\n",
    "# fig.suptitle(\"Mean framewise displacement per sub-sample\")\n",
    "\n",
    "glue('meanFD-fig', fig, display=False)"
   ]
  },
  {
   "cell_type": "markdown",
   "id": "e4d9d8df",
   "metadata": {},
   "source": [
    "```{glue:figure} meanFD-fig\n",
    ":figwidth: 800px\n",
    ":name: \"tbl:meanFD-fig\"\n",
    "\n",
    "Mean framewise displacement of each dataset.\n",
    "We found young subjects has higher motion comparing to adults,\n",
    "which is consistent with the pattern described in the literature.\n",
    "Amongst psychiatric conditiontions, only the schizophrania group shows difference to the control group.\n",
    "```\n",
    "\n",
    "## The loss in temporal degrees of freedom in different strategies\n",
    "\n",
    "The common analysis and denoising methods are based on linear reagression.\n",
    "Using more nuisance regressors can capture additional sources of noise-related variance in the data and thus improve denoising.\n",
    "However, this comes at the expense of a loss of temporal degrees of freedom for statistical inference in further analysis.\n",
    "This is an important point to consider along side the denoising performance.\n",
    "\n",
    "In fMRIPrep, high-pass filtering is done through discrete cosine-basis regressors, \n",
    "labled as `cosine_*` in fMRIPrep confounds output.\n",
    "In the following section, the number of discrete cosine-basis regressor will be denoted as $c$. \n",
    "Depending on the length of the scan, the number of discrete cosine-basis regressors can differ ($c_{ds000228}=4$, $c_{ds000030}=3$). \n",
    "The `simple` and `srubbing`-based strategy are the strategy with a fixed number of degree of freedom loss.\n",
    "`compcor` and `aroma`-based strategies shows variability depending on the number of noise compoenets detected.\n",
    "In theory, `compcor6` should also report a fixed number of degree of freedom loss.\n",
    "However, fMRIPrep outputs the compcor compoenents based on the 50% variance cut-off.\n",
    "For some subjects the number of components could be lower than 6, hence the variability.\n",
    "\n",
    "In {cite:t}`ciric_benchmarking_2017`, the equivalent `aroma` and `aroma+gsr` strategies were reported with \n",
    "a lower magnitude of loss in temporal degrees of freedom than `scrubbing` or `simple` strategies.\n",
    "However, we did not observe this advantage is limited to sample with relatively low motion (i.e. adults).\n",
    "When selecting denoising strategy, \n",
    "The two datasets used in the current benchmark both contained subjects with behaviours deviating from the healthy controls.\n",
    "`ds000228` is comprised of adult healthy controls and children.\n",
    "`ds000030` includes healthy controls and subjects with three different psychiatric conditions.\n",
    "the loss in degrees of freedom `simple` ($26 + c$) and `simple+gsr` ($27 + c$) used the least amount of regressors in the general population.\n",
    "Certain sub-sample uses less regressors with the `aroma` and `aroma+gsr` strategies.\n",
    "The reason potentially lies in the implementation of ICA-AROMA. \n",
    "ICA-AROMA uses pretrained model on healthy subjects to select noise components {cite:p}`aroma`."
   ]
  },
  {
   "cell_type": "code",
   "execution_count": 4,
   "id": "4ffa4856",
   "metadata": {
    "tags": [
     "hide-input",
     "remove-output"
    ]
   },
   "outputs": [
    {
     "data": {
      "image/png": "[encoded data removed]",
      "text/plain": [
       "<Figure size 792x360 with 2 Axes>"
      ]
     },
     "metadata": {
      "filenames": {
       "image/png": "/home/haoting/projects/fmriprep-denoise-benchmark/content/_build/jupyter_execute/research_report/results_7_0.png"
      },
      "scrapbook": {
       "mime_prefix": "application/papermill.record/",
       "name": "dof-fig"
      }
     },
     "output_type": "display_data"
    },
    {
     "data": {
      "text/plain": [
       "['child', 'adult']"
      ]
     },
     "metadata": {
      "scrapbook": {
       "mime_prefix": "application/papermill.record/",
       "name": "group-order_ds000228"
      }
     },
     "output_type": "display_data"
    },
    {
     "data": {
      "text/plain": [
       "['ADHD', 'BIPOLAR', 'SCHZ', 'CONTROL']"
      ]
     },
     "metadata": {
      "scrapbook": {
       "mime_prefix": "application/papermill.record/",
       "name": "group-order_ds000030"
      }
     },
     "output_type": "display_data"
    },
    {
     "data": {
      "image/png": "[encoded data removed]",
      "text/plain": [
       "<Figure size 792x360 with 2 Axes>"
      ]
     },
     "metadata": {
      "filenames": {
       "image/png": "/home/haoting/projects/fmriprep-denoise-benchmark/content/_build/jupyter_execute/research_report/results_7_3.png"
      },
      "needs_background": "light"
     },
     "output_type": "display_data"
    }
   ],
   "source": [
    "fig, ds_groups = figures.plot_dof_dataset()\n",
    "glue(f'dof-fig', fig, display=False)\n",
    "for ds, group in ds_groups:\n",
    "    glue(f'group-order_{ds}', group, display=False)"
   ]
  },
  {
   "cell_type": "markdown",
   "id": "cd6f1064",
   "metadata": {},
   "source": [
    "```{glue:figure} dof-fig\n",
    ":figwidth: 800px\n",
    ":name: \"tbl:dof-fig\"\n",
    "\n",
    "Loss in temporal degrees of freedom break down by groups.\n",
    "`compcor` and `aroma`-based strategies shows variability depending on the number of noise compoenets detected.\n",
    "The variability is broken down by groups.\n",
    "From the lightest hue to the darkes, the order of the group in `ds000228` is:\n",
    "{glue:}`group-order_ds000228`\n",
    "From the lightest hue to the darkes, the order of the group in `ds000030` is:\n",
    "{glue:}`group-order_ds000030`\n",
    "```\n",
    "\n",
    "To compare the loss in number of volumes from scrubbing base strategy across datasets,\n",
    "we calculate the proportion of volume loss to number of volumes in a full scan.\n",
    "`ds000228` includes child subjects and shows higher loss in volumes comparing to `ds000030` with adult subjects only.\n",
    "This is consistent with the trend in the difference in mean framewise displacement,\n",
    "and it fits the observation shown in literature {cite:p}`satterthwaite_impact_2012`.\n",
    "In `ds000030`, we see the similar trend mirroring the mean framewise displacemnt results.\n",
    "The schizophrania group shows the highest amount of volumes scrubbed,\n",
    "followed by the bipolar group, and comparable results between the control group and ADHD group.\n",
    "With a stringent 0.2 mm threshold, groups with high motion will loose on average close to half of the volumes."
   ]
  },
  {
   "cell_type": "code",
   "execution_count": 5,
   "id": "989e7daf",
   "metadata": {
    "tags": [
     "hide-input",
     "remove-output"
    ]
   },
   "outputs": [
    {
     "data": {
      "image/png": "[encoded data removed]",
      "text/plain": [
       "<Figure size 792x360 with 2 Axes>"
      ]
     },
     "metadata": {
      "filenames": {
       "image/png": "/home/haoting/projects/fmriprep-denoise-benchmark/content/_build/jupyter_execute/research_report/results_9_0.png"
      },
      "scrapbook": {
       "mime_prefix": "application/papermill.record/",
       "name": "scrubbing-fig"
      }
     },
     "output_type": "display_data"
    },
    {
     "data": {
      "image/png": "[encoded data removed]",
      "text/plain": [
       "<Figure size 792x360 with 2 Axes>"
      ]
     },
     "metadata": {
      "filenames": {
       "image/png": "/home/haoting/projects/fmriprep-denoise-benchmark/content/_build/jupyter_execute/research_report/results_9_1.png"
      },
      "needs_background": "light"
     },
     "output_type": "display_data"
    }
   ],
   "source": [
    "fig = figures.plot_vol_scrubbed_dataset()\n",
    "glue(f'scrubbing-fig', fig, display=False)"
   ]
  },
  {
   "cell_type": "markdown",
   "id": "02a4f461",
   "metadata": {},
   "source": [
    "```{glue:figure} scrubbing-fig\n",
    ":figwidth: 800px\n",
    ":name: \"tbl:scrubbing-fig\"\n",
    "\n",
    "Loss in number of volumes in proportion to the full length of the scan, break down by groups in each dataset.\n",
    "We can see the trend is similar to mean framewise displacement result. \n",
    "\n",
    "```\n",
    "\n",
    "## Comparisons on the impacts of strategies on connectomes\n",
    "<!-- Please advice on the threashold here -->\n",
    "<!-- stiengent -->"
   ]
  },
  {
   "cell_type": "code",
   "execution_count": 6,
   "id": "60a57867",
   "metadata": {
    "tags": [
     "hide-input",
     "remove-output"
    ]
   },
   "outputs": [
    {
     "data": {
      "text/plain": [
       "0.25"
      ]
     },
     "metadata": {
      "scrapbook": {
       "mime_prefix": "",
       "name": "gross_meanfd"
      }
     },
     "output_type": "display_data"
    },
    {
     "data": {
      "text/plain": [
       "0.2"
      ]
     },
     "metadata": {
      "scrapbook": {
       "mime_prefix": "",
       "name": "fd_thresh"
      }
     },
     "output_type": "display_data"
    },
    {
     "data": {
      "text/plain": [
       "80.0"
      ]
     },
     "metadata": {
      "scrapbook": {
       "mime_prefix": "",
       "name": "proportion_thresh"
      }
     },
     "output_type": "display_data"
    }
   ],
   "source": [
    "gross_meanfd = 0.25\n",
    "fd_thresh = 0.2\n",
    "proportion_thresh = 0.8\n",
    "glue('gross_meanfd', gross_meanfd)\n",
    "glue('fd_thresh', fd_thresh)\n",
    "glue('proportion_thresh', proportion_thresh * 100)"
   ]
  },
  {
   "cell_type": "markdown",
   "id": "4cea0221",
   "metadata": {},
   "source": [
    "To evaluate the impact of denoising strategy on connectomes, \n",
    "we will exlcude subjects with high motion , \n",
    "defined by the following criteria adopted from  {cite:p}`parkes_evaluation_2018`: \n",
    "mean framewise displacement > {glue:}`gross_meanfd` mm, \n",
    "{glue:}`proportion_thresh`% of volumes removed while scrubbing \n",
    "with a {glue:}`fd_thresh` mm threshold."
   ]
  },
  {
   "cell_type": "code",
   "execution_count": 7,
   "id": "b5c7247f",
   "metadata": {
    "tags": [
     "hide-input"
    ]
   },
   "outputs": [
    {
     "name": "stdout",
     "output_type": "stream",
     "text": [
      "n female: 38.0\n",
      "n female in child: 24.0\n",
      "n female in adult: 14.0\n"
     ]
    },
    {
     "data": {
      "text/html": [
       "<style type=\"text/css\">\n",
       "</style>\n",
       "<table id=\"T_b0522_\" style=\"font-size: 12px\">\n",
       "  <thead>\n",
       "    <tr>\n",
       "      <th class=\"blank level0\" >&nbsp;</th>\n",
       "      <th class=\"col_heading level0 col0\" >full sample</th>\n",
       "      <th class=\"col_heading level0 col1\" >child</th>\n",
       "      <th class=\"col_heading level0 col2\" >adult</th>\n",
       "    </tr>\n",
       "  </thead>\n",
       "  <tbody>\n",
       "    <tr>\n",
       "      <th id=\"T_b0522_level0_row0\" class=\"row_heading level0 row0\" >count</th>\n",
       "      <td id=\"T_b0522_row0_col0\" class=\"data row0 col0\" >75.000000</td>\n",
       "      <td id=\"T_b0522_row0_col1\" class=\"data row0 col1\" >51.000000</td>\n",
       "      <td id=\"T_b0522_row0_col2\" class=\"data row0 col2\" >24.000000</td>\n",
       "    </tr>\n",
       "    <tr>\n",
       "      <th id=\"T_b0522_level0_row1\" class=\"row_heading level0 row1\" >mean</th>\n",
       "      <td id=\"T_b0522_row1_col0\" class=\"data row1 col0\" >12.222012</td>\n",
       "      <td id=\"T_b0522_row1_col1\" class=\"data row1 col1\" >6.854723</td>\n",
       "      <td id=\"T_b0522_row1_col2\" class=\"data row1 col2\" >23.627500</td>\n",
       "    </tr>\n",
       "    <tr>\n",
       "      <th id=\"T_b0522_level0_row2\" class=\"row_heading level0 row2\" >std</th>\n",
       "      <td id=\"T_b0522_row2_col0\" class=\"data row2 col0\" >8.434903</td>\n",
       "      <td id=\"T_b0522_row2_col1\" class=\"data row2 col1\" >2.390175</td>\n",
       "      <td id=\"T_b0522_row2_col2\" class=\"data row2 col2\" >4.107435</td>\n",
       "    </tr>\n",
       "    <tr>\n",
       "      <th id=\"T_b0522_level0_row3\" class=\"row_heading level0 row3\" >min</th>\n",
       "      <td id=\"T_b0522_row3_col0\" class=\"data row3 col0\" >3.594798</td>\n",
       "      <td id=\"T_b0522_row3_col1\" class=\"data row3 col1\" >3.594798</td>\n",
       "      <td id=\"T_b0522_row3_col2\" class=\"data row3 col2\" >18.000000</td>\n",
       "    </tr>\n",
       "    <tr>\n",
       "      <th id=\"T_b0522_level0_row4\" class=\"row_heading level0 row4\" >25%</th>\n",
       "      <td id=\"T_b0522_row4_col0\" class=\"data row4 col0\" >5.475000</td>\n",
       "      <td id=\"T_b0522_row4_col1\" class=\"data row4 col1\" >5.070000</td>\n",
       "      <td id=\"T_b0522_row4_col2\" class=\"data row4 col2\" >21.000000</td>\n",
       "    </tr>\n",
       "    <tr>\n",
       "      <th id=\"T_b0522_level0_row5\" class=\"row_heading level0 row5\" >50%</th>\n",
       "      <td id=\"T_b0522_row5_col0\" class=\"data row5 col0\" >8.590000</td>\n",
       "      <td id=\"T_b0522_row5_col1\" class=\"data row5 col1\" >7.000000</td>\n",
       "      <td id=\"T_b0522_row5_col2\" class=\"data row5 col2\" >22.500000</td>\n",
       "    </tr>\n",
       "    <tr>\n",
       "      <th id=\"T_b0522_level0_row6\" class=\"row_heading level0 row6\" >75%</th>\n",
       "      <td id=\"T_b0522_row6_col0\" class=\"data row6 col0\" >20.000000</td>\n",
       "      <td id=\"T_b0522_row6_col1\" class=\"data row6 col1\" >9.020000</td>\n",
       "      <td id=\"T_b0522_row6_col2\" class=\"data row6 col2\" >27.015000</td>\n",
       "    </tr>\n",
       "    <tr>\n",
       "      <th id=\"T_b0522_level0_row7\" class=\"row_heading level0 row7\" >max</th>\n",
       "      <td id=\"T_b0522_row7_col0\" class=\"data row7 col0\" >31.000000</td>\n",
       "      <td id=\"T_b0522_row7_col1\" class=\"data row7 col1\" >11.510000</td>\n",
       "      <td id=\"T_b0522_row7_col2\" class=\"data row7 col2\" >31.000000</td>\n",
       "    </tr>\n",
       "  </tbody>\n",
       "</table>\n"
      ],
      "text/plain": [
       "<pandas.io.formats.style.Styler at 0x7f68284c4d90>"
      ]
     },
     "metadata": {
      "scrapbook": {
       "mime_prefix": "",
       "name": "ds000228_scrubbed_desc"
      }
     },
     "output_type": "display_data"
    }
   ],
   "source": [
    "desc = tables.lazy_demographic('ds000228', gross_meanfd, fd_thresh, proportion_thresh)\n",
    "desc = desc.style.set_table_attributes('style=\"font-size: 12px\"')\n",
    "\n",
    "glue('ds000228_scrubbed_desc', desc) "
   ]
  },
  {
   "cell_type": "code",
   "execution_count": 8,
   "id": "a25d8d67",
   "metadata": {
    "tags": [
     "hide-input"
    ]
   },
   "outputs": [
    {
     "name": "stdout",
     "output_type": "stream",
     "text": [
      "n female: 85.0\n",
      "n female in ADHD: 16.0\n",
      "n female in BIPOLAR: 16.0\n",
      "n female in SCHZ: 5.0\n",
      "n female in CONTROL: 48.0\n"
     ]
    },
    {
     "data": {
      "text/html": [
       "<style type=\"text/css\">\n",
       "</style>\n",
       "<table id=\"T_c1b9c_\" style=\"font-size: 12px\">\n",
       "  <thead>\n",
       "    <tr>\n",
       "      <th class=\"blank level0\" >&nbsp;</th>\n",
       "      <th class=\"col_heading level0 col0\" >full sample</th>\n",
       "      <th class=\"col_heading level0 col1\" >ADHD</th>\n",
       "      <th class=\"col_heading level0 col2\" >BIPOLAR</th>\n",
       "      <th class=\"col_heading level0 col3\" >SCHZ</th>\n",
       "      <th class=\"col_heading level0 col4\" >CONTROL</th>\n",
       "    </tr>\n",
       "  </thead>\n",
       "  <tbody>\n",
       "    <tr>\n",
       "      <th id=\"T_c1b9c_level0_row0\" class=\"row_heading level0 row0\" >count</th>\n",
       "      <td id=\"T_c1b9c_row0_col0\" class=\"data row0 col0\" >195.000000</td>\n",
       "      <td id=\"T_c1b9c_row0_col1\" class=\"data row0 col1\" >35.000000</td>\n",
       "      <td id=\"T_c1b9c_row0_col2\" class=\"data row0 col2\" >33.000000</td>\n",
       "      <td id=\"T_c1b9c_row0_col3\" class=\"data row0 col3\" >29.000000</td>\n",
       "      <td id=\"T_c1b9c_row0_col4\" class=\"data row0 col4\" >98.000000</td>\n",
       "    </tr>\n",
       "    <tr>\n",
       "      <th id=\"T_c1b9c_level0_row1\" class=\"row_heading level0 row1\" >mean</th>\n",
       "      <td id=\"T_c1b9c_row1_col0\" class=\"data row1 col0\" >31.558974</td>\n",
       "      <td id=\"T_c1b9c_row1_col1\" class=\"data row1 col1\" >31.314286</td>\n",
       "      <td id=\"T_c1b9c_row1_col2\" class=\"data row1 col2\" >33.181818</td>\n",
       "      <td id=\"T_c1b9c_row1_col3\" class=\"data row1 col3\" >34.724138</td>\n",
       "      <td id=\"T_c1b9c_row1_col4\" class=\"data row1 col4\" >30.163265</td>\n",
       "    </tr>\n",
       "    <tr>\n",
       "      <th id=\"T_c1b9c_level0_row2\" class=\"row_heading level0 row2\" >std</th>\n",
       "      <td id=\"T_c1b9c_row2_col0\" class=\"data row2 col0\" >8.942564</td>\n",
       "      <td id=\"T_c1b9c_row2_col1\" class=\"data row2 col1\" >10.380330</td>\n",
       "      <td id=\"T_c1b9c_row2_col2\" class=\"data row2 col2\" >8.815663</td>\n",
       "      <td id=\"T_c1b9c_row2_col3\" class=\"data row2 col3\" >9.624732</td>\n",
       "      <td id=\"T_c1b9c_row2_col4\" class=\"data row2 col4\" >7.994449</td>\n",
       "    </tr>\n",
       "    <tr>\n",
       "      <th id=\"T_c1b9c_level0_row3\" class=\"row_heading level0 row3\" >min</th>\n",
       "      <td id=\"T_c1b9c_row3_col0\" class=\"data row3 col0\" >21.000000</td>\n",
       "      <td id=\"T_c1b9c_row3_col1\" class=\"data row3 col1\" >21.000000</td>\n",
       "      <td id=\"T_c1b9c_row3_col2\" class=\"data row3 col2\" >21.000000</td>\n",
       "      <td id=\"T_c1b9c_row3_col3\" class=\"data row3 col3\" >22.000000</td>\n",
       "      <td id=\"T_c1b9c_row3_col4\" class=\"data row3 col4\" >21.000000</td>\n",
       "    </tr>\n",
       "    <tr>\n",
       "      <th id=\"T_c1b9c_level0_row4\" class=\"row_heading level0 row4\" >25%</th>\n",
       "      <td id=\"T_c1b9c_row4_col0\" class=\"data row4 col0\" >24.000000</td>\n",
       "      <td id=\"T_c1b9c_row4_col1\" class=\"data row4 col1\" >23.000000</td>\n",
       "      <td id=\"T_c1b9c_row4_col2\" class=\"data row4 col2\" >25.000000</td>\n",
       "      <td id=\"T_c1b9c_row4_col3\" class=\"data row4 col3\" >25.000000</td>\n",
       "      <td id=\"T_c1b9c_row4_col4\" class=\"data row4 col4\" >24.000000</td>\n",
       "    </tr>\n",
       "    <tr>\n",
       "      <th id=\"T_c1b9c_level0_row5\" class=\"row_heading level0 row5\" >50%</th>\n",
       "      <td id=\"T_c1b9c_row5_col0\" class=\"data row5 col0\" >29.000000</td>\n",
       "      <td id=\"T_c1b9c_row5_col1\" class=\"data row5 col1\" >26.000000</td>\n",
       "      <td id=\"T_c1b9c_row5_col2\" class=\"data row5 col2\" >33.000000</td>\n",
       "      <td id=\"T_c1b9c_row5_col3\" class=\"data row5 col3\" >33.000000</td>\n",
       "      <td id=\"T_c1b9c_row5_col4\" class=\"data row5 col4\" >27.000000</td>\n",
       "    </tr>\n",
       "    <tr>\n",
       "      <th id=\"T_c1b9c_level0_row6\" class=\"row_heading level0 row6\" >75%</th>\n",
       "      <td id=\"T_c1b9c_row6_col0\" class=\"data row6 col0\" >39.000000</td>\n",
       "      <td id=\"T_c1b9c_row6_col1\" class=\"data row6 col1\" >38.500000</td>\n",
       "      <td id=\"T_c1b9c_row6_col2\" class=\"data row6 col2\" >37.000000</td>\n",
       "      <td id=\"T_c1b9c_row6_col3\" class=\"data row6 col3\" >43.000000</td>\n",
       "      <td id=\"T_c1b9c_row6_col4\" class=\"data row6 col4\" >36.750000</td>\n",
       "    </tr>\n",
       "    <tr>\n",
       "      <th id=\"T_c1b9c_level0_row7\" class=\"row_heading level0 row7\" >max</th>\n",
       "      <td id=\"T_c1b9c_row7_col0\" class=\"data row7 col0\" >50.000000</td>\n",
       "      <td id=\"T_c1b9c_row7_col1\" class=\"data row7 col1\" >50.000000</td>\n",
       "      <td id=\"T_c1b9c_row7_col2\" class=\"data row7 col2\" >50.000000</td>\n",
       "      <td id=\"T_c1b9c_row7_col3\" class=\"data row7 col3\" >49.000000</td>\n",
       "      <td id=\"T_c1b9c_row7_col4\" class=\"data row7 col4\" >50.000000</td>\n",
       "    </tr>\n",
       "  </tbody>\n",
       "</table>\n"
      ],
      "text/plain": [
       "<pandas.io.formats.style.Styler at 0x7f68287abbe0>"
      ]
     },
     "metadata": {
      "scrapbook": {
       "mime_prefix": "",
       "name": "ds000030_scrubbed_desc"
      }
     },
     "output_type": "display_data"
    }
   ],
   "source": [
    "from fmriprep_denoise.visualization import tables\n",
    "\n",
    "desc = tables.lazy_demographic('ds000030', gross_meanfd, fd_thresh, proportion_thresh)\n",
    "desc = desc.style.set_table_attributes('style=\"font-size: 12px\"')\n",
    "\n",
    "glue('ds000030_scrubbed_desc', desc) "
   ]
  },
  {
   "cell_type": "code",
   "execution_count": 9,
   "id": "caa1da8c",
   "metadata": {
    "tags": [
     "hide-input",
     "remove-output"
    ]
   },
   "outputs": [
    {
     "data": {
      "text/plain": [
       "0.1713232972424761"
      ]
     },
     "metadata": {
      "scrapbook": {
       "mime_prefix": "",
       "name": "ds000228_child_mean_qc"
      }
     },
     "output_type": "display_data"
    },
    {
     "data": {
      "text/plain": [
       "0.047582849871793745"
      ]
     },
     "metadata": {
      "scrapbook": {
       "mime_prefix": "",
       "name": "ds000228_child_sd_qc"
      }
     },
     "output_type": "display_data"
    },
    {
     "data": {
      "text/plain": [
       "51"
      ]
     },
     "metadata": {
      "scrapbook": {
       "mime_prefix": "",
       "name": "ds000228_child_n_qc"
      }
     },
     "output_type": "display_data"
    },
    {
     "data": {
      "text/plain": [
       "-2.22449678497562"
      ]
     },
     "metadata": {
      "scrapbook": {
       "mime_prefix": "",
       "name": "ds000228_t_child_qc"
      }
     },
     "output_type": "display_data"
    },
    {
     "data": {
      "text/plain": [
       "0.030856856649758648"
      ]
     },
     "metadata": {
      "scrapbook": {
       "mime_prefix": "",
       "name": "ds000228_p_child_qc"
      }
     },
     "output_type": "display_data"
    },
    {
     "data": {
      "text/plain": [
       "47.94871226550252"
      ]
     },
     "metadata": {
      "scrapbook": {
       "mime_prefix": "",
       "name": "ds000228_df_child_qc"
      }
     },
     "output_type": "display_data"
    },
    {
     "data": {
      "text/plain": [
       "0.1462397403408233"
      ]
     },
     "metadata": {
      "scrapbook": {
       "mime_prefix": "",
       "name": "ds000228_adult_mean_qc"
      }
     },
     "output_type": "display_data"
    },
    {
     "data": {
      "text/plain": [
       "0.044565864996593665"
      ]
     },
     "metadata": {
      "scrapbook": {
       "mime_prefix": "",
       "name": "ds000228_adult_sd_qc"
      }
     },
     "output_type": "display_data"
    },
    {
     "data": {
      "text/plain": [
       "24"
      ]
     },
     "metadata": {
      "scrapbook": {
       "mime_prefix": "",
       "name": "ds000228_adult_n_qc"
      }
     },
     "output_type": "display_data"
    },
    {
     "data": {
      "text/plain": [
       "0.12063842850904928"
      ]
     },
     "metadata": {
      "scrapbook": {
       "mime_prefix": "",
       "name": "ds000030_ADHD_mean_qc"
      }
     },
     "output_type": "display_data"
    },
    {
     "data": {
      "text/plain": [
       "0.04577576380448889"
      ]
     },
     "metadata": {
      "scrapbook": {
       "mime_prefix": "",
       "name": "ds000030_ADHD_sd_qc"
      }
     },
     "output_type": "display_data"
    },
    {
     "data": {
      "text/plain": [
       "35"
      ]
     },
     "metadata": {
      "scrapbook": {
       "mime_prefix": "",
       "name": "ds000030_ADHD_n_qc"
      }
     },
     "output_type": "display_data"
    },
    {
     "data": {
      "text/plain": [
       "-0.23628452973442154"
      ]
     },
     "metadata": {
      "scrapbook": {
       "mime_prefix": "",
       "name": "ds000030_t_ADHD_qc"
      }
     },
     "output_type": "display_data"
    },
    {
     "data": {
      "text/plain": [
       "0.8141349584900849"
      ]
     },
     "metadata": {
      "scrapbook": {
       "mime_prefix": "",
       "name": "ds000030_p_ADHD_qc"
      }
     },
     "output_type": "display_data"
    },
    {
     "data": {
      "text/plain": [
       "52.293263833795784"
      ]
     },
     "metadata": {
      "scrapbook": {
       "mime_prefix": "",
       "name": "ds000030_df_ADHD_qc"
      }
     },
     "output_type": "display_data"
    },
    {
     "data": {
      "text/plain": [
       "0.1290764095850883"
      ]
     },
     "metadata": {
      "scrapbook": {
       "mime_prefix": "",
       "name": "ds000030_BIPOLAR_mean_qc"
      }
     },
     "output_type": "display_data"
    },
    {
     "data": {
      "text/plain": [
       "0.04848134540926968"
      ]
     },
     "metadata": {
      "scrapbook": {
       "mime_prefix": "",
       "name": "ds000030_BIPOLAR_sd_qc"
      }
     },
     "output_type": "display_data"
    },
    {
     "data": {
      "text/plain": [
       "33"
      ]
     },
     "metadata": {
      "scrapbook": {
       "mime_prefix": "",
       "name": "ds000030_BIPOLAR_n_qc"
      }
     },
     "output_type": "display_data"
    },
    {
     "data": {
      "text/plain": [
       "-1.1277873503967353"
      ]
     },
     "metadata": {
      "scrapbook": {
       "mime_prefix": "",
       "name": "ds000030_t_BIPOLAR_qc"
      }
     },
     "output_type": "display_data"
    },
    {
     "data": {
      "text/plain": [
       "0.2652037839551333"
      ]
     },
     "metadata": {
      "scrapbook": {
       "mime_prefix": "",
       "name": "ds000030_p_BIPOLAR_qc"
      }
     },
     "output_type": "display_data"
    },
    {
     "data": {
      "text/plain": [
       "46.432614722074234"
      ]
     },
     "metadata": {
      "scrapbook": {
       "mime_prefix": "",
       "name": "ds000030_df_BIPOLAR_qc"
      }
     },
     "output_type": "display_data"
    },
    {
     "data": {
      "text/plain": [
       "0.15979072243469525"
      ]
     },
     "metadata": {
      "scrapbook": {
       "mime_prefix": "",
       "name": "ds000030_SCHZ_mean_qc"
      }
     },
     "output_type": "display_data"
    },
    {
     "data": {
      "text/plain": [
       "0.049018061380559835"
      ]
     },
     "metadata": {
      "scrapbook": {
       "mime_prefix": "",
       "name": "ds000030_SCHZ_sd_qc"
      }
     },
     "output_type": "display_data"
    },
    {
     "data": {
      "text/plain": [
       "29"
      ]
     },
     "metadata": {
      "scrapbook": {
       "mime_prefix": "",
       "name": "ds000030_SCHZ_n_qc"
      }
     },
     "output_type": "display_data"
    },
    {
     "data": {
      "text/plain": [
       "-4.160335986701984"
      ]
     },
     "metadata": {
      "scrapbook": {
       "mime_prefix": "",
       "name": "ds000030_t_SCHZ_qc"
      }
     },
     "output_type": "display_data"
    },
    {
     "data": {
      "text/plain": [
       "0.0001699160379249277"
      ]
     },
     "metadata": {
      "scrapbook": {
       "mime_prefix": "",
       "name": "ds000030_p_SCHZ_qc"
      }
     },
     "output_type": "display_data"
    },
    {
     "data": {
      "text/plain": [
       "38.849559324547954"
      ]
     },
     "metadata": {
      "scrapbook": {
       "mime_prefix": "",
       "name": "ds000030_df_SCHZ_qc"
      }
     },
     "output_type": "display_data"
    },
    {
     "data": {
      "text/plain": [
       "0.1185909985743183"
      ]
     },
     "metadata": {
      "scrapbook": {
       "mime_prefix": "",
       "name": "ds000030_CONTROL_mean_qc"
      }
     },
     "output_type": "display_data"
    },
    {
     "data": {
      "text/plain": [
       "0.03861420066980365"
      ]
     },
     "metadata": {
      "scrapbook": {
       "mime_prefix": "",
       "name": "ds000030_CONTROL_sd_qc"
      }
     },
     "output_type": "display_data"
    },
    {
     "data": {
      "text/plain": [
       "98"
      ]
     },
     "metadata": {
      "scrapbook": {
       "mime_prefix": "",
       "name": "ds000030_CONTROL_n_qc"
      }
     },
     "output_type": "display_data"
    }
   ],
   "source": [
    "from statsmodels.stats.weightstats import ttest_ind\n",
    "\n",
    "for_plotting = {}\n",
    "\n",
    "datasets = ['ds000228', 'ds000030']\n",
    "baseline_groups = ['adult', 'CONTROL']\n",
    "for dataset, baseline_group in zip(datasets, baseline_groups):\n",
    "    data, groups = tables.get_descriptive_data(dataset, gross_meanfd, fd_thresh, proportion_thresh)\n",
    "    baseline = data[data['groups'] == baseline_group]\n",
    "    for group in groups:\n",
    "        compare = data[data['groups'] == group]\n",
    "        glue(\n",
    "            f'{dataset}_{group}_mean_qc',\n",
    "            compare['mean_framewise_displacement'].mean(),\n",
    "        )\n",
    "        glue(\n",
    "            f'{dataset}_{group}_sd_qc',\n",
    "            compare['mean_framewise_displacement'].std(),\n",
    "        )\n",
    "        glue(\n",
    "            f'{dataset}_{group}_n_qc',\n",
    "            compare.shape[0],\n",
    "        )\n",
    "        if group != baseline_group:\n",
    "            t_stats, pval, df = ttest_ind(\n",
    "                baseline['mean_framewise_displacement'],\n",
    "                compare['mean_framewise_displacement'],\n",
    "                usevar='unequal',\n",
    "            )\n",
    "            glue(f'{dataset}_t_{group}_qc', t_stats)\n",
    "            glue(f'{dataset}_p_{group}_qc', pval)\n",
    "            glue(f'{dataset}_df_{group}_qc', df)\n",
    "    for_plotting.update({dataset: data})"
   ]
  },
  {
   "cell_type": "markdown",
   "id": "094ad17d",
   "metadata": {},
   "source": [
    "We will firstly characterise motion through the mean framewise displacement of each sample and the sub-groups.\n",
    "This report will serve as a reference point for understanding the remainder of the results.\n",
    "In `ds000228`, there was a significant difference in motion during the scan captured by mean framewise displacement \n",
    "between the child \n",
    "(M = {glue:text}`ds000228_child_mean_qc:.2f`, SD = {glue:text}`ds000228_child_sd_qc:.2f`, n = {glue:text}`ds000228_child_n_qc:i`)\n",
    "and adult sample\n",
    "(M = {glue:text}`ds000228_adult_mean_qc:.2f`, SD = {glue:text}`ds000228_adult_sd_qc:.2f`, n = {glue:text}`ds000228_adult_n_qc:i`,\n",
    "t({glue:text}`ds000228_df_child_qc:.2f`) = {glue:text}`ds000228_t_child_qc:.2f`, p = {glue:text}`ds000228_p_child_qc:.3f`,\n",
    "This is consistent with the existing literature.\n",
    "In `ds000030`, the only patient group shows a difference comparing to the\n",
    "control \n",
    "(M = {glue:text}`ds000030_CONTROL_mean_qc:.2f`, SD = {glue:text}`ds000030_CONTROL_sd_qc:.2f`, n = {glue:text}`ds000030_CONTROL_n_qc:i`)\n",
    "is the schizophrania group \n",
    "(M = {glue:text}`ds000030_SCHZ_mean_qc:.2f`, SD = {glue:text}`ds000030_SCHZ_sd_qc:.2f`, n = {glue:text}`ds000030_SCHZ_n_qc:i`;\n",
    "t({glue:text}`ds000030_df_SCHZ_qc:.2f`) = {glue:text}`ds000030_t_SCHZ_qc:.2f`, p = {glue:text}`ds000030_p_SCHZ_qc:.3f`).\n",
    "There was no difference between the control and ADHD group\n",
    "(M = {glue:text}`ds000030_ADHD_mean_qc:.2f`, SD = {glue:text}`ds000030_ADHD_sd:.2f`, n = {glue:text}`ds000030_ADHD_n_qc:i`;\n",
    "t({glue:text}`ds000030_df_ADHD_qc:.2f`) = {glue:text}`ds000030_t_ADHD_qc:.2f`, p = {glue:text}`ds000030_p_ADHD_qc:.3f`),\n",
    "or the bipolar group \n",
    "(M = {glue:text}`ds000030_BIPOLAR_mean_qc:.2f`, SD = {glue:text}`ds000030_BIPOLAR_sd_qc:.2f`, n = {glue:text}`ds000030_BIPOLAR_n_qc:i`;\n",
    "t({glue:text}`ds000030_df_BIPOLAR_qc:.2f`) = {glue:text}`ds000030_t_BIPOLAR_qc:.2f`, p = {glue:text}`ds000030_p_BIPOLAR_qc:.3f`).\n",
    "In conclusion, adult samples has lower mean framewise displacement than a youth sample."
   ]
  },
  {
   "cell_type": "code",
   "execution_count": 10,
   "id": "206e53e9",
   "metadata": {
    "tags": [
     "hide-input",
     "remove-output"
    ]
   },
   "outputs": [
    {
     "data": {
      "image/png": "[encoded data removed]",
      "text/plain": [
       "<Figure size 504x360 with 2 Axes>"
      ]
     },
     "metadata": {
      "filenames": {
       "image/png": "/home/haoting/projects/fmriprep-denoise-benchmark/content/_build/jupyter_execute/research_report/results_17_0.png"
      },
      "scrapbook": {
       "mime_prefix": "application/papermill.record/",
       "name": "meanFD_cleaned-fig"
      }
     },
     "output_type": "display_data"
    },
    {
     "data": {
      "image/png": "[encoded data removed]",
      "text/plain": [
       "<Figure size 504x360 with 2 Axes>"
      ]
     },
     "metadata": {
      "filenames": {
       "image/png": "/home/haoting/projects/fmriprep-denoise-benchmark/content/_build/jupyter_execute/research_report/results_17_1.png"
      },
      "needs_background": "light"
     },
     "output_type": "display_data"
    }
   ],
   "source": [
    "datasets = ['ds000228', 'ds000030']\n",
    "for dataset in datasets:\n",
    "    data, _ = tables.get_descriptive_data(dataset, gross_meanfd, fd_thresh, proportion_thresh)\n",
    "    for_plotting.update({dataset: data})\n",
    "\n",
    "\n",
    "fig = plt.figure(figsize=(7, 5))\n",
    "axs = fig.subplots(1, 2, sharey=True)\n",
    "for dataset, ax in zip(for_plotting, axs):\n",
    "    df = for_plotting[dataset]\n",
    "    mean_fd = df['mean_framewise_displacement'].mean()\n",
    "    sd_fd = df['mean_framewise_displacement'].std()\n",
    "    df = df.rename(\n",
    "        columns={\n",
    "            'mean_framewise_displacement': 'Mean Framewise Displacement (mm)',\n",
    "            'groups': 'Groups'\n",
    "        }\n",
    "    )\n",
    "    sns.boxplot(\n",
    "        y='Mean Framewise Displacement (mm)', x='Groups', data=df, ax=ax\n",
    "    )\n",
    "    ax.set_title(\n",
    "        f'{dataset}\\nMean\\u00B1SD={mean_fd:.2f}\\u00B1{sd_fd:.2f}\\n$N={df.shape[0]}$'\n",
    "    )\n",
    "# fig.suptitle(\"Mean framewise displacement per sub-sample\")\n",
    "\n",
    "glue('meanFD_cleaned-fig', fig, display=False)"
   ]
  },
  {
   "cell_type": "markdown",
   "id": "9966d941",
   "metadata": {},
   "source": [
    "```{glue:figure} meanFD_cleaned-fig\n",
    ":figwidth: 800px\n",
    ":name: \"tbl:meanFD_cleaned-fig\"\n",
    "```\n",
    "\n",
    "<!-- The trend of benchmaker metrics does not differ amongst the choice of atlases.\n",
    "However, we can see variance within the parcellation scheme MIST and DiFuMo.\n",
    "The variance comes from different resolution of the same parcellation scheme, epecially with low parcel counts.\n",
    "-->"
   ]
  }
 ],
 "metadata": {
  "jupytext": {
   "text_representation": {
    "extension": ".md",
    "format_name": "myst",
    "format_version": 0.13,
    "jupytext_version": "1.14.1"
   }
  },
  "kernelspec": {
   "display_name": "Python 3",
   "language": "python",
   "name": "python3"
  },
  "language_info": {
   "codemirror_mode": {
    "name": "ipython",
    "version": 3
   },
   "file_extension": ".py",
   "mimetype": "text/x-python",
   "name": "python",
   "nbconvert_exporter": "python",
   "pygments_lexer": "ipython3",
   "version": "3.8.10"
  },
  "source_map": [
   12,
   16,
   29,
   33,
   69,
   94,
   118,
   159,
   165,
   190,
   194,
   208,
   216,
   225,
   233,
   244,
   280,
   305,
   335
  ]
 },
 "nbformat": 4,
 "nbformat_minor": 5
}