{
 "cells": [
  {
   "cell_type": "markdown",
   "id": "85b0eda8",
   "metadata": {},
   "source": [
    "# Results"
   ]
  },
  {
   "cell_type": "code",
   "execution_count": 1,
   "id": "92230390",
   "metadata": {
    "tags": [
     "hide-input",
     "remove-output"
    ]
   },
   "outputs": [
    {
     "ename": "SyntaxError",
     "evalue": "invalid syntax (figures.py, line 128)",
     "output_type": "error",
     "traceback": [
      "Traceback \u001b[0;36m(most recent call last)\u001b[0m:\n",
      "  File \u001b[1;32m\"/opt/hostedtoolcache/Python/3.7.13/x64/lib/python3.7/site-packages/IPython/core/interactiveshell.py\"\u001b[0m, line \u001b[1;32m3553\u001b[0m, in \u001b[1;35mrun_code\u001b[0m\n    exec(code_obj, self.user_global_ns, self.user_ns)\n",
      "\u001b[0;36m  File \u001b[0;32m\"/tmp/ipykernel_2013/2442399571.py\"\u001b[0;36m, line \u001b[0;32m9\u001b[0;36m, in \u001b[0;35m<module>\u001b[0;36m\u001b[0m\n\u001b[0;31m    from fmriprep_denoise.visualization import figures, tables\u001b[0m\n",
      "\u001b[0;36m  File \u001b[0;32m\"/home/runner/work/fmriprep-denoise-benchmark/fmriprep-denoise-benchmark/fmriprep_denoise/visualization/figures.py\"\u001b[0;36m, line \u001b[0;32m128\u001b[0m\n\u001b[0;31m    if cur_strategy := utils.GRID_LOCATION.get((i, j), False):\u001b[0m\n\u001b[0m                     ^\u001b[0m\n\u001b[0;31mSyntaxError\u001b[0m\u001b[0;31m:\u001b[0m invalid syntax\n"
     ]
    }
   ],
   "source": [
    "import warnings\n",
    "\n",
    "warnings.filterwarnings('ignore')\n",
    "from pathlib import Path\n",
    "import numpy as np\n",
    "import pandas as pd\n",
    "import matplotlib.pyplot as plt\n",
    "import seaborn as sns\n",
    "from fmriprep_denoise.visualization import figures, tables\n",
    "from myst_nb import glue"
   ]
  },
  {
   "cell_type": "markdown",
   "id": "f6ef1c20",
   "metadata": {},
   "source": [
    "## Level of motion in samples quitified by mean framewise displacement"
   ]
  },
  {
   "cell_type": "code",
   "execution_count": null,
   "id": "45bde6a5",
   "metadata": {
    "tags": [
     "hide-input",
     "remove-output"
    ]
   },
   "outputs": [],
   "source": [
    "from statsmodels.stats.weightstats import ttest_ind\n",
    "\n",
    "for_plotting = {}\n",
    "\n",
    "datasets = ['ds000228', 'ds000030']\n",
    "baseline_groups = ['adult', 'CONTROL']\n",
    "for dataset, baseline_group in zip(datasets, baseline_groups):\n",
    "    data, groups = tables.get_descriptive_data(dataset)\n",
    "    baseline = data[data['groups'] == baseline_group]\n",
    "    for group in groups:\n",
    "        compare = data[data['groups'] == group]\n",
    "        glue(\n",
    "            f'{dataset}_{group}_mean',\n",
    "            compare['mean_framewise_displacement'].mean(),\n",
    "        )\n",
    "        glue(\n",
    "            f'{dataset}_{group}_sd',\n",
    "            compare['mean_framewise_displacement'].std(),\n",
    "        )\n",
    "        glue(\n",
    "            f'{dataset}_{group}_n',\n",
    "            compare.shape[0],\n",
    "        )\n",
    "        if group != baseline_group:\n",
    "            t_stats, pval, df = ttest_ind(\n",
    "                baseline['mean_framewise_displacement'],\n",
    "                compare['mean_framewise_displacement'],\n",
    "                usevar='unequal',\n",
    "            )\n",
    "            glue(f'{dataset}_t_{group}', t_stats)\n",
    "            glue(f'{dataset}_p_{group}', pval)\n",
    "            glue(f'{dataset}_df_{group}', df)\n",
    "    for_plotting.update({dataset: data})"
   ]
  },
  {
   "cell_type": "markdown",
   "id": "658a60c3",
   "metadata": {},
   "source": [
    "We will firstly characterise motion through the mean framewise displacement of each sample and the sub-groups.\n",
    "This report will serve as a reference point for understanding the remainder of the results.\n",
    "In `ds000228`, there was a significant difference in motion during the scan captured by mean framewise displacement \n",
    "between the child \n",
    "(M = {glue:text}`ds000228_child_mean:.2f`, SD = {glue:text}`ds000228_child_sd:.2f`, n = {glue:text}`ds000228_child_n:i`)\n",
    "and adult sample\n",
    "(M = {glue:text}`ds000228_adult_mean:.2f`, SD = {glue:text}`ds000228_adult_sd:.2f`, n = {glue:text}`ds000228_adult_n:i`,\n",
    "t({glue:text}`ds000228_df_child:.2f`) = {glue:text}`ds000228_t_child:.2f`, p = {glue:text}`ds000228_p_child:.3f`,\n",
    "This is consistent with the existing literature.\n",
    "In `ds000030`, the only patient group shows a difference comparing to the\n",
    "control \n",
    "(M = {glue:text}`ds000030_CONTROL_mean:.2f`, SD = {glue:text}`ds000030_CONTROL_sd:.2f`, n = {glue:text}`ds000030_CONTROL_n:i`)\n",
    "is the schizophrania group \n",
    "(M = {glue:text}`ds000030_SCHZ_mean:.2f`, SD = {glue:text}`ds000030_SCHZ_sd:.2f`, n = {glue:text}`ds000030_SCHZ_n:i`;\n",
    "t({glue:text}`ds000030_df_SCHZ:.2f`) = {glue:text}`ds000030_t_SCHZ:.2f`, p = {glue:text}`ds000030_p_SCHZ:.3f`).\n",
    "There was no difference between the control and ADHD group\n",
    "(M = {glue:text}`ds000030_ADHD_mean:.2f`, SD = {glue:text}`ds000030_ADHD_sd:.2f`, n = {glue:text}`ds000030_ADHD_n:i`;\n",
    "t({glue:text}`ds000030_df_ADHD:.2f`) = {glue:text}`ds000030_t_ADHD:.2f`, p = {glue:text}`ds000030_p_ADHD:.3f`),\n",
    "or the bipolar group \n",
    "(M = {glue:text}`ds000030_BIPOLAR_mean:.2f`, SD = {glue:text}`ds000030_BIPOLAR_sd:.2f`, n = {glue:text}`ds000030_BIPOLAR_n:i`;\n",
    "t({glue:text}`ds000030_df_BIPOLAR:.2f`) = {glue:text}`ds000030_t_BIPOLAR:.2f`, p = {glue:text}`ds000030_p_BIPOLAR:.3f`).\n",
    "In conclusion, adult samples has lower mean framewise displacement than a youth sample."
   ]
  },
  {
   "cell_type": "code",
   "execution_count": null,
   "id": "841c93a1",
   "metadata": {
    "tags": [
     "hide-input",
     "remove-output"
    ]
   },
   "outputs": [],
   "source": [
    "fig = plt.figure(figsize=(7, 5))\n",
    "axs = fig.subplots(1, 2, sharey=True)\n",
    "for dataset, ax in zip(for_plotting, axs):\n",
    "    df = for_plotting[dataset]\n",
    "    mean_fd = df['mean_framewise_displacement'].mean()\n",
    "    sd_fd = df['mean_framewise_displacement'].std()\n",
    "    df = df.rename(\n",
    "        columns={\n",
    "            'mean_framewise_displacement': 'Mean Framewise Displacement (mm)',\n",
    "            'groups': 'Groups'\n",
    "        }\n",
    "    )\n",
    "    sns.boxplot(\n",
    "        y='Mean Framewise Displacement (mm)', x='Groups', data=df, ax=ax\n",
    "    )\n",
    "    ax.set_title(\n",
    "        f'{dataset}\\nMean\\u00B1SD={mean_fd:.2f}\\u00B1{sd_fd:.2f}\\n$N={df.shape[0]}$'\n",
    "    )\n",
    "# fig.suptitle(\"Mean framewise displacement per sub-sample\")\n",
    "\n",
    "glue('meanFD-fig', fig, display=False)"
   ]
  },
  {
   "cell_type": "markdown",
   "id": "f3057322",
   "metadata": {},
   "source": [
    "```{glue:figure} meanFD-fig\n",
    ":figwidth: 800px\n",
    ":name: \"tbl:meanFD-fig\"\n",
    "\n",
    "Mean framewise displacement of each dataset.\n",
    "We found young subjects has higher motion comparing to adults,\n",
    "which is consistent with the pattern described in the literature.\n",
    "Amongst psychiatric conditiontions, only the schizophrania group shows difference to the control group.\n",
    "```\n",
    "\n",
    "## The loss in temporal degrees of freedom in different strategies\n",
    "\n",
    "The common analysis and denoising methods are based on linear reagression.\n",
    "Using more nuisance regressors can capture additional sources of noise-related variance in the data and thus improve denoising.\n",
    "However, this comes at the expense of a loss of temporal degrees of freedom for statistical inference in further analysis.\n",
    "This is an important point to consider along side the denoising performance.\n",
    "\n",
    "In fMRIPrep, high-pass filtering is done through discrete cosine-basis regressors, \n",
    "labled as `cosine_*` in fMRIPrep confounds output.\n",
    "In the following section, the number of discrete cosine-basis regressor will be denoted as $c$. \n",
    "Depending on the length of the scan, the number of discrete cosine-basis regressors can differ ($c_{ds000228}=4$, $c_{ds000030}=3$). \n",
    "The `simple` and `srubbing`-based strategy are the strategy with a fixed number of degree of freedom loss.\n",
    "`compcor` and `aroma`-based strategies shows variability depending on the number of noise compoenets detected.\n",
    "In theory, `compcor6` should also report a fixed number of degree of freedom loss.\n",
    "However, fMRIPrep outputs the compcor compoenents based on the 50% variance cut-off.\n",
    "For some subjects the number of components could be lower than 6, hence the variability.\n",
    "\n",
    "In {cite:t}`ciric_benchmarking_2017`, the equivalent `aroma` and `aroma+gsr` strategies were reported with \n",
    "a lower magnitude of loss in temporal degrees of freedom than `scrubbing` or `simple` strategies.\n",
    "However, we did not observe this advantage is limited to sample with relatively low motion (i.e. adults).\n",
    "When selecting denoising strategy, \n",
    "The two datasets used in the current benchmark both contained subjects with behaviours deviating from the healthy controls.\n",
    "`ds000228` is comprised of adult healthy controls and children.\n",
    "`ds000030` includes healthy controls and subjects with three different psychiatric conditions.\n",
    "the loss in degrees of freedom `simple` ($26 + c$) and `simple+gsr` ($27 + c$) used the least amount of regressors in the general population.\n",
    "Certain sub-sample uses less regressors with the `aroma` and `aroma+gsr` strategies.\n",
    "The reason potentially lies in the implementation of ICA-AROMA. \n",
    "ICA-AROMA uses pretrained model on healthy subjects to select noise components {cite:p}`aroma`."
   ]
  },
  {
   "cell_type": "code",
   "execution_count": null,
   "id": "c79780ca",
   "metadata": {
    "tags": [
     "hide-input",
     "remove-output"
    ]
   },
   "outputs": [],
   "source": [
    "fig, ds_groups = figures.plot_dof_dataset()\n",
    "glue(f'dof-fig', fig, display=False)\n",
    "for ds, group in ds_groups:\n",
    "    glue(f'group-order_{ds}', group, display=False)"
   ]
  },
  {
   "cell_type": "markdown",
   "id": "d5c24b6c",
   "metadata": {},
   "source": [
    "```{glue:figure} dof-fig\n",
    ":figwidth: 800px\n",
    ":name: \"tbl:dof-fig\"\n",
    "\n",
    "Loss in temporal degrees of freedom break down by groups.\n",
    "`compcor` and `aroma`-based strategies shows variability depending on the number of noise compoenets detected.\n",
    "The variability is broken down by groups.\n",
    "From the lightest hue to the darkes, the order of the group in `ds000228` is:\n",
    "{glue:}`group-order_ds000228`\n",
    "From the lightest hue to the darkes, the order of the group in `ds000030` is:\n",
    "{glue:}`group-order_ds000030`\n",
    "```\n",
    "\n",
    "To compare the loss in number of volumes from scrubbing base strategy across datasets,\n",
    "we calculate the proportion of volume loss to number of volumes in a full scan.\n",
    "`ds000228` includes child subjects and shows higher loss in volumes comparing to `ds000030` with adult subjects only.\n",
    "This is consistent with the trend in the difference in mean framewise displacement,\n",
    "and it fits the observation shown in literature {cite:p}`satterthwaite_impact_2012`.\n",
    "In `ds000030`, we see the similar trend mirroring the mean framewise displacemnt results.\n",
    "The schizophrania group shows the highest amount of volumes scrubbed,\n",
    "followed by the bipolar group, and comparable results between the control group and ADHD group.\n",
    "With a stringent 0.2 mm threshold, groups with high motion will loose on average close to half of the volumes."
   ]
  },
  {
   "cell_type": "code",
   "execution_count": null,
   "id": "9ae4ad44",
   "metadata": {
    "tags": [
     "hide-input",
     "remove-output"
    ]
   },
   "outputs": [],
   "source": [
    "fig = figures.plot_vol_scrubbed_dataset()\n",
    "glue(f'scrubbing-fig', fig, display=False)"
   ]
  },
  {
   "cell_type": "markdown",
   "id": "d15ee084",
   "metadata": {},
   "source": [
    "```{glue:figure} scrubbing-fig\n",
    ":figwidth: 800px\n",
    ":name: \"tbl:scrubbing-fig\"\n",
    "\n",
    "Loss in number of volumes in proportion to the full length of the scan, break down by groups in each dataset.\n",
    "We can see the trend is similar to mean framewise displacement result. \n",
    "\n",
    "```\n",
    "\n",
    "## Comparisons on the impacts of strategies on connectomes\n",
    "<!-- Please advice on the threshold here -->\n",
    "<!-- stiengent -->"
   ]
  },
  {
   "cell_type": "code",
   "execution_count": null,
   "id": "b45c7a0f",
   "metadata": {
    "tags": [
     "hide-input",
     "remove-output"
    ]
   },
   "outputs": [],
   "source": [
    "gross_meanfd = 0.25\n",
    "fd_thresh = 0.2\n",
    "proportion_thresh = 0.8\n",
    "glue('gross_meanfd', gross_meanfd)\n",
    "glue('fd_thresh', fd_thresh)\n",
    "glue('proportion_thresh', proportion_thresh * 100)"
   ]
  },
  {
   "cell_type": "markdown",
   "id": "de88f4f4",
   "metadata": {},
   "source": [
    "To evaluate the impact of denoising strategy on connectomes, \n",
    "we will exclude subjects with high motion , \n",
    "defined by the following criteria adopted from  {cite:p}`parkes_evaluation_2018`: \n",
    "mean framewise displacement > {glue:}`gross_meanfd` mm, \n",
    "{glue:}`proportion_thresh`% of volumes removed while scrubbing \n",
    "with a {glue:}`fd_thresh` mm threshold."
   ]
  },
  {
   "cell_type": "code",
   "execution_count": null,
   "id": "51785e2e",
   "metadata": {
    "tags": [
     "hide-input"
    ]
   },
   "outputs": [],
   "source": [
    "desc = tables.lazy_demographic('ds000228', gross_meanfd, fd_thresh, proportion_thresh)\n",
    "desc = desc.style.set_table_attributes('style=\"font-size: 12px\"')\n",
    "\n",
    "glue('ds000228_scrubbed_desc', desc) "
   ]
  },
  {
   "cell_type": "code",
   "execution_count": null,
   "id": "7fee9c68",
   "metadata": {
    "tags": [
     "hide-input"
    ]
   },
   "outputs": [],
   "source": [
    "from fmriprep_denoise.visualization import tables\n",
    "\n",
    "desc = tables.lazy_demographic('ds000030', gross_meanfd, fd_thresh, proportion_thresh)\n",
    "desc = desc.style.set_table_attributes('style=\"font-size: 12px\"')\n",
    "\n",
    "glue('ds000030_scrubbed_desc', desc) "
   ]
  },
  {
   "cell_type": "code",
   "execution_count": null,
   "id": "df8badc0",
   "metadata": {
    "tags": [
     "hide-input",
     "remove-output"
    ]
   },
   "outputs": [],
   "source": [
    "from statsmodels.stats.weightstats import ttest_ind\n",
    "\n",
    "for_plotting = {}\n",
    "\n",
    "datasets = ['ds000228', 'ds000030']\n",
    "baseline_groups = ['adult', 'CONTROL']\n",
    "for dataset, baseline_group in zip(datasets, baseline_groups):\n",
    "    data, groups = tables.get_descriptive_data(dataset, gross_meanfd, fd_thresh, proportion_thresh)\n",
    "    baseline = data[data['groups'] == baseline_group]\n",
    "    for group in groups:\n",
    "        compare = data[data['groups'] == group]\n",
    "        glue(\n",
    "            f'{dataset}_{group}_mean_qc',\n",
    "            compare['mean_framewise_displacement'].mean(),\n",
    "        )\n",
    "        glue(\n",
    "            f'{dataset}_{group}_sd_qc',\n",
    "            compare['mean_framewise_displacement'].std(),\n",
    "        )\n",
    "        glue(\n",
    "            f'{dataset}_{group}_n_qc',\n",
    "            compare.shape[0],\n",
    "        )\n",
    "        if group != baseline_group:\n",
    "            t_stats, pval, df = ttest_ind(\n",
    "                baseline['mean_framewise_displacement'],\n",
    "                compare['mean_framewise_displacement'],\n",
    "                usevar='unequal',\n",
    "            )\n",
    "            glue(f'{dataset}_t_{group}_qc', t_stats)\n",
    "            glue(f'{dataset}_p_{group}_qc', pval)\n",
    "            glue(f'{dataset}_df_{group}_qc', df)\n",
    "    for_plotting.update({dataset: data})"
   ]
  },
  {
   "cell_type": "markdown",
   "id": "b8276f20",
   "metadata": {},
   "source": [
    "We will firstly characterise motion through the mean framewise displacement of each sample and the sub-groups.\n",
    "This report will serve as a reference point for understanding the remainder of the results.\n",
    "In `ds000228`, there was a significant difference in motion during the scan captured by mean framewise displacement \n",
    "between the child \n",
    "(M = {glue:text}`ds000228_child_mean_qc:.2f`, SD = {glue:text}`ds000228_child_sd_qc:.2f`, n = {glue:text}`ds000228_child_n_qc:i`)\n",
    "and adult sample\n",
    "(M = {glue:text}`ds000228_adult_mean_qc:.2f`, SD = {glue:text}`ds000228_adult_sd_qc:.2f`, n = {glue:text}`ds000228_adult_n_qc:i`,\n",
    "t({glue:text}`ds000228_df_child_qc:.2f`) = {glue:text}`ds000228_t_child_qc:.2f`, p = {glue:text}`ds000228_p_child_qc:.3f`,\n",
    "This is consistent with the existing literature.\n",
    "In `ds000030`, the only patient group shows a difference comparing to the\n",
    "control \n",
    "(M = {glue:text}`ds000030_CONTROL_mean_qc:.2f`, SD = {glue:text}`ds000030_CONTROL_sd_qc:.2f`, n = {glue:text}`ds000030_CONTROL_n_qc:i`)\n",
    "is the schizophrania group \n",
    "(M = {glue:text}`ds000030_SCHZ_mean_qc:.2f`, SD = {glue:text}`ds000030_SCHZ_sd_qc:.2f`, n = {glue:text}`ds000030_SCHZ_n_qc:i`;\n",
    "t({glue:text}`ds000030_df_SCHZ_qc:.2f`) = {glue:text}`ds000030_t_SCHZ_qc:.2f`, p = {glue:text}`ds000030_p_SCHZ_qc:.3f`).\n",
    "There was no difference between the control and ADHD group\n",
    "(M = {glue:text}`ds000030_ADHD_mean_qc:.2f`, SD = {glue:text}`ds000030_ADHD_sd:.2f`, n = {glue:text}`ds000030_ADHD_n_qc:i`;\n",
    "t({glue:text}`ds000030_df_ADHD_qc:.2f`) = {glue:text}`ds000030_t_ADHD_qc:.2f`, p = {glue:text}`ds000030_p_ADHD_qc:.3f`),\n",
    "or the bipolar group \n",
    "(M = {glue:text}`ds000030_BIPOLAR_mean_qc:.2f`, SD = {glue:text}`ds000030_BIPOLAR_sd_qc:.2f`, n = {glue:text}`ds000030_BIPOLAR_n_qc:i`;\n",
    "t({glue:text}`ds000030_df_BIPOLAR_qc:.2f`) = {glue:text}`ds000030_t_BIPOLAR_qc:.2f`, p = {glue:text}`ds000030_p_BIPOLAR_qc:.3f`).\n",
    "In conclusion, adult samples has lower mean framewise displacement than a youth sample."
   ]
  },
  {
   "cell_type": "code",
   "execution_count": null,
   "id": "4238f129",
   "metadata": {
    "tags": [
     "hide-input",
     "remove-output"
    ]
   },
   "outputs": [],
   "source": [
    "datasets = ['ds000228', 'ds000030']\n",
    "for dataset in datasets:\n",
    "    data, _ = tables.get_descriptive_data(dataset, gross_meanfd, fd_thresh, proportion_thresh)\n",
    "    for_plotting.update({dataset: data})\n",
    "\n",
    "\n",
    "fig = plt.figure(figsize=(7, 5))\n",
    "axs = fig.subplots(1, 2, sharey=True)\n",
    "for dataset, ax in zip(for_plotting, axs):\n",
    "    df = for_plotting[dataset]\n",
    "    mean_fd = df['mean_framewise_displacement'].mean()\n",
    "    sd_fd = df['mean_framewise_displacement'].std()\n",
    "    df = df.rename(\n",
    "        columns={\n",
    "            'mean_framewise_displacement': 'Mean Framewise Displacement (mm)',\n",
    "            'groups': 'Groups'\n",
    "        }\n",
    "    )\n",
    "    sns.boxplot(\n",
    "        y='Mean Framewise Displacement (mm)', x='Groups', data=df, ax=ax\n",
    "    )\n",
    "    ax.set_title(\n",
    "        f'{dataset}\\nMean\\u00B1SD={mean_fd:.2f}\\u00B1{sd_fd:.2f}\\n$N={df.shape[0]}$'\n",
    "    )\n",
    "# fig.suptitle(\"Mean framewise displacement per sub-sample\")\n",
    "\n",
    "glue('meanFD_cleaned-fig', fig, display=False)"
   ]
  },
  {
   "cell_type": "markdown",
   "id": "43e6b7fb",
   "metadata": {},
   "source": [
    "```{glue:figure} meanFD_cleaned-fig\n",
    ":figwidth: 800px\n",
    ":name: \"tbl:meanFD_cleaned-fig\"\n",
    "```\n",
    "<!-- need to filter and regenerate the metrics -->\n",
    "<!-- The trend of benchmaker metrics does not differ amongst the choice of atlases.\n",
    "However, we can see variance within the parcellation scheme MIST and DiFuMo.\n",
    "The variance comes from different resolution of the same parcellation scheme, epecially with low parcel counts.\n",
    "-->"
   ]
  }
 ],
 "metadata": {
  "jupytext": {
   "text_representation": {
    "extension": ".md",
    "format_name": "myst",
    "format_version": 0.13,
    "jupytext_version": "1.14.1"
   }
  },
  "kernelspec": {
   "display_name": "Python 3",
   "language": "python",
   "name": "python3"
  },
  "language_info": {
   "codemirror_mode": {
    "name": "ipython",
    "version": 3
   },
   "file_extension": ".py",
   "mimetype": "text/x-python",
   "name": "python",
   "nbconvert_exporter": "python",
   "pygments_lexer": "ipython3",
   "version": "3.7.13"
  },
  "source_map": [
   12,
   16,
   29,
   33,
   69,
   94,
   118,
   159,
   165,
   190,
   194,
   208,
   216,
   225,
   233,
   244,
   280,
   305,
   335
  ]
 },
 "nbformat": 4,
 "nbformat_minor": 5
}