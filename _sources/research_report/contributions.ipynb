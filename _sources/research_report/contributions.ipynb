{
 "cells": [
  {
   "cell_type": "markdown",
   "id": "4c798bf9",
   "metadata": {},
   "source": [
    "# Contributions\n",
    "\n",
    "The initial API was started by Hanad Sharmarke[^1] and Pierre Bellec[^1][^7].\n",
    "The implementation was completed by Hao-Ting Wang[^1], Steven Meisler[^2][^3], François Paugam[^1][^4], Pierre Bellec.\n",
    "Hao-Ting Wang migrated the code base to `nilearn`.\n",
    "Nicolas Gensollen[^5] and Bertrand Thirion[^5] reviewed the code migrated to `nilearn`.\n",
    "We thank Chris Markiewicz[^6] for feedbacks related to fMRIPrep.\n",
    "\n",
    "Hao-Ting Wang and Pierre Bellec drafted the paper.\n",
    "\n",
    "Please see the [original repository](https://github.com/SIMEXP/load_confounds#contributors-) for a full history of development and contributors.\n",
    "\n",
    "[^1]: Centre de recherche de l'institut Universitaire de gériatrie de Montréal (CRIUGM), Montréal, Québec, Canada\n",
    "\n",
    "[^2]: Harvard University, MA, USA\n",
    "\n",
    "[^3]: Massachusetts Institute of Technology, MA, USA\n",
    "\n",
    "[^4]: Computer Science and Operations Research Department, Université de Montréal, Montréal, Québec, Canada\n",
    "\n",
    "[^5]: Inria, CEA, Université Paris-Saclay, Paris, France\n",
    "\n",
    "[^6]: Department of Psychology, Stanford University, Stanford, United States\n",
    "\n",
    "[^7]: Psychology Department, Université de Montréal, Montréal, Québec, Canada\n",
    "\n",
    "## Acknowledgments\n",
    "<!-- funding info here -->"
   ]
  }
 ],
 "metadata": {
  "jupytext": {
   "text_representation": {
    "extension": ".md",
    "format_name": "myst",
    "format_version": 0.13,
    "jupytext_version": "1.14.1"
   }
  },
  "kernelspec": {
   "display_name": "Python 3",
   "language": "python",
   "name": "python3"
  },
  "language_info": {
   "codemirror_mode": {
    "name": "ipython",
    "version": 3
   },
   "file_extension": ".py",
   "mimetype": "text/x-python",
   "name": "python",
   "nbconvert_exporter": "python",
   "pygments_lexer": "ipython3",
   "version": "3.8.10"
  },
  "source_map": [
   12
  ]
 },
 "nbformat": 4,
 "nbformat_minor": 5
}