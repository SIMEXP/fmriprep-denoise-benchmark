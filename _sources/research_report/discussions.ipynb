{
 "cells": [
  {
   "cell_type": "markdown",
   "id": "0fd14da2",
   "metadata": {},
   "source": [
    "# Discussions\n",
    "\n",
    "Selecting the correct conofund variables for denoising minimally preprocessed fMRI data is a challenging task.\n",
    "fMRIPrep ensure a large collection of metrics are delivered in the standard way.\n",
    "They provided documentation to guide the user for regressor selection.\n",
    "However, there's no guarantee it is goining to be correct or people are reading the documentation properly.\n",
    "`load_confounds` is an API to simplify the process.\n",
    "Built with careful curation of the literature, it ensures users select the sensible nusiance regressors.\n",
    "It also provide predefined strategies with the best understanding of the literature.\n",
    "The remaining issue is that the performance of these denoising strategies has yet to be exaimined.\n",
    "The current research aims to provide benchmark on the performance of common methods in the denoising literature for functional connectivity analysis.\n",
    "\n",
    "We performed the benchmark on two open access datasets: ds000228 and ds000030.\n",
    "ds000228 allows us to examine the difference between children and adult.\n",
    "ds000030 includes healthy control and patients of three different psychiatric conditions.\n",
    "We used three different multi-resolution atlases in this benchmark (MIST, DiFuMo, Schaefer)\n",
    "as well as one common altlas in the previous benchmark literature,\n",
    "the Gordon atlas with 333 parcels, to compare with the past literature using different pipelines.\n",
    "The benchmark is largely consistent with the recent literatures.\n",
    "Comparing to the baseline, data that was high-pass filtered,\n",
    "<!-- some description of the results -->\n",
    "However, the results related to GSR are weird in both dataset.\n",
    "Further investigation is needed on the code for signal cleaning in nilearn and GSR calculation implemented in fMRIPrep.\n",
    "\n",
    "Scrubbing based method is the best if the analysis is using summary statistics such as functional connectivity at individual level.\n",
    "For analysis requires the continueous timeseries, the simple strategy might be the most balanced approach.\n",
    "Aside for the benchmark on denoising performance, another important factor is the degree of freedome loss.\n",
    "Losing degree of freedom means the variance left for the subsequent analysis will be limited.\n",
    "Despite the good performance of ICA-AROMA, it is the method with the highest losss in degrees of freedom.\n",
    "<!-- check what ciric et al say about the degree of freedom -->\n",
    "For dataset with shorter data acquisition sequence, methods using too many nuisance regressors might not be a good idea.\n",
    "CompCor and ICA-AROMA both performs well but can risk in lossing to much degrees of freedom.\n",
    "Compcor method should be used with caution.\n",
    "The six component cut-off does not respect differences of each dataset, but does perform well on average.\n",
    "Our beenchmark shows the 50% variance approach doesn't perform better than just a smaller subset of the components.\n",
    "And it risk reintroducing noise to the data and a higher cost in loss of degree of freedom.\n",
    "Both CompCor and ICA-AROMA produce components that are approximation of likely noise.\n",
    "Component based method might not be desirable for users who wish to have explicit definition for their regressors.\n",
    "In summary, simple is a sufficient enough approach and scrubbing is great if network structure is a priority and timeseries property is not needed.\n",
    "\n",
    "<!-- write some stuff about the clinical population -->\n",
    "\n",
    "With benchmark on different type of atlas, we also show that the impact of altas selection is not big.\n",
    "Volumetric data based atlas, both probablility and descret atlas performs similarly.\n",
    "Surface based atlas provides less variance across different resolutions.\n",
    "The current software will be maintained along with the release of fMRIprep.\n",
    "The code base used in this paper provides a great foundation for generating reports on dataset for post-fMRIPrep processing.\n",
    "The reports on these two dataset will be able to regenerate the for the future release of fMRIprep."
   ]
  }
 ],
 "metadata": {
  "jupytext": {
   "text_representation": {
    "extension": ".md",
    "format_name": "myst",
    "format_version": 0.13,
    "jupytext_version": "1.14.1"
   }
  },
  "kernelspec": {
   "display_name": "Python 3",
   "language": "python",
   "name": "python3"
  },
  "language_info": {
   "codemirror_mode": {
    "name": "ipython",
    "version": 3
   },
   "file_extension": ".py",
   "mimetype": "text/x-python",
   "name": "python",
   "nbconvert_exporter": "python",
   "pygments_lexer": "ipython3",
   "version": "3.8.10"
  },
  "source_map": [
   12
  ]
 },
 "nbformat": 4,
 "nbformat_minor": 5
}